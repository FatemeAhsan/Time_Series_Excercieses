{
  "cells": [
    {
      "cell_type": "markdown",
      "metadata": {
        "id": "view-in-github",
        "colab_type": "text"
      },
      "source": [
        "<a href=\"https://colab.research.google.com/github/FatemehAhsan/AI_Practices/blob/main/d2l/computer-vision/kaggle-cifar10.ipynb\" target=\"_parent\"><img src=\"https://colab.research.google.com/assets/colab-badge.svg\" alt=\"Open In Colab\"/></a>"
      ]
    },
    {
      "cell_type": "markdown",
      "metadata": {
        "id": "YItJ_2CMZfpl"
      },
      "source": [
        "# Install Packages"
      ],
      "id": "YItJ_2CMZfpl"
    },
    {
      "cell_type": "code",
      "execution_count": 1,
      "metadata": {
        "colab": {
          "base_uri": "https://localhost:8080/"
        },
        "id": "q6iyRN5s_ClW",
        "outputId": "6e0f822a-6c7b-415e-9bd9-844897329874"
      },
      "outputs": [
        {
          "output_type": "stream",
          "name": "stdout",
          "text": [
            "Collecting github-clone\n",
            "  Downloading github_clone-1.2.0-py3-none-any.whl (9.1 kB)\n",
            "Requirement already satisfied: requests>=2.20.0 in /usr/local/lib/python3.10/dist-packages (from github-clone) (2.31.0)\n",
            "Collecting docopt>=0.6.2 (from github-clone)\n",
            "  Downloading docopt-0.6.2.tar.gz (25 kB)\n",
            "  Preparing metadata (setup.py) ... \u001b[?25l\u001b[?25hdone\n",
            "Requirement already satisfied: charset-normalizer<4,>=2 in /usr/local/lib/python3.10/dist-packages (from requests>=2.20.0->github-clone) (3.3.2)\n",
            "Requirement already satisfied: idna<4,>=2.5 in /usr/local/lib/python3.10/dist-packages (from requests>=2.20.0->github-clone) (3.4)\n",
            "Requirement already satisfied: urllib3<3,>=1.21.1 in /usr/local/lib/python3.10/dist-packages (from requests>=2.20.0->github-clone) (2.0.7)\n",
            "Requirement already satisfied: certifi>=2017.4.17 in /usr/local/lib/python3.10/dist-packages (from requests>=2.20.0->github-clone) (2023.7.22)\n",
            "Building wheels for collected packages: docopt\n",
            "  Building wheel for docopt (setup.py) ... \u001b[?25l\u001b[?25hdone\n",
            "  Created wheel for docopt: filename=docopt-0.6.2-py2.py3-none-any.whl size=13706 sha256=b13aaa147813a3fd0837bff89e8178534fb8f7ec0b0fbd3a14a2a93f311b0f5f\n",
            "  Stored in directory: /root/.cache/pip/wheels/fc/ab/d4/5da2067ac95b36618c629a5f93f809425700506f72c9732fac\n",
            "Successfully built docopt\n",
            "Installing collected packages: docopt, github-clone\n",
            "Successfully installed docopt-0.6.2 github-clone-1.2.0\n"
          ]
        }
      ],
      "source": [
        "!pip install github-clone"
      ],
      "id": "q6iyRN5s_ClW"
    },
    {
      "cell_type": "markdown",
      "metadata": {
        "id": "HK1XD_KzW2Ge"
      },
      "source": [
        "# Load Files and Utils"
      ],
      "id": "HK1XD_KzW2Ge"
    },
    {
      "cell_type": "code",
      "execution_count": 2,
      "metadata": {
        "colab": {
          "base_uri": "https://localhost:8080/"
        },
        "id": "TDCyevaf_u2x",
        "outputId": "d0138b33-d2c7-46d3-b53f-38e3c64b5320"
      },
      "outputs": [
        {
          "output_type": "stream",
          "name": "stdout",
          "text": [
            "Cloning into 'img'...\n",
            "done.\n"
          ]
        }
      ],
      "source": [
        "!ghclone https://github.com/FatemehAhsan/AI_Practices/tree/main/d2l/img"
      ],
      "id": "TDCyevaf_u2x"
    },
    {
      "cell_type": "code",
      "execution_count": 3,
      "metadata": {
        "colab": {
          "base_uri": "https://localhost:8080/"
        },
        "id": "x3ngyttm_Jsl",
        "outputId": "7d9d19b0-acb2-4b8f-a53f-f6656bedf0b5"
      },
      "outputs": [
        {
          "output_type": "stream",
          "name": "stdout",
          "text": [
            "Cloning into 'd2l'...\n",
            "done.\n"
          ]
        }
      ],
      "source": [
        "!ghclone https://github.com/FatemehAhsan/AI_Practices/tree/main/d2l/d2l"
      ],
      "id": "x3ngyttm_Jsl"
    },
    {
      "cell_type": "code",
      "execution_count": 4,
      "metadata": {
        "colab": {
          "base_uri": "https://localhost:8080/"
        },
        "id": "pECu6WKKXakE",
        "outputId": "6f7d1941-6eeb-4dc8-cd8f-f4a14f7fd53d"
      },
      "outputs": [
        {
          "output_type": "stream",
          "name": "stdout",
          "text": [
            "Cloning into 'utils'...\n",
            "done.\n"
          ]
        }
      ],
      "source": [
        "!ghclone https://github.com/FatemehAhsan/AI_Practices/tree/main/utils"
      ],
      "id": "pECu6WKKXakE"
    },
    {
      "cell_type": "markdown",
      "metadata": {
        "id": "0W1zqR3LXEis"
      },
      "source": [
        "# Import Packages"
      ],
      "id": "0W1zqR3LXEis"
    },
    {
      "cell_type": "code",
      "execution_count": 5,
      "metadata": {
        "id": "4gQ1l9ukW7tT"
      },
      "outputs": [],
      "source": [
        "import torch\n",
        "from d2l.d2l import torch as d2l\n",
        "from typing import Any\n",
        "import matplotlib\n",
        "from utils.utils import *"
      ],
      "id": "4gQ1l9ukW7tT"
    },
    {
      "cell_type": "markdown",
      "id": "37236084",
      "metadata": {
        "origin_pos": 0,
        "id": "37236084"
      },
      "source": [
        "# Image Classification (CIFAR-10) on Kaggle\n",
        ":label:`sec_kaggle_cifar10`\n",
        "\n",
        "So far, we have been using high-level APIs of deep learning frameworks to directly obtain image datasets in tensor format.\n",
        "However, custom image datasets\n",
        "often come in the form of image files.\n",
        "In this section, we will start from\n",
        "raw image files,\n",
        "and organize, read, then transform them\n",
        "into tensor format step by step.\n",
        "\n",
        "We experimented with the CIFAR-10 dataset in :numref:`sec_image_augmentation`,\n",
        "which is an important dataset in computer vision.\n",
        "In this section,\n",
        "we will apply the knowledge we learned\n",
        "in previous sections\n",
        "to practice the Kaggle competition of\n",
        "CIFAR-10 image classification.\n",
        "(**The web address of the competition is https://www.kaggle.com/c/cifar-10**)\n",
        "\n",
        ":numref:`fig_kaggle_cifar10` shows the information on the competition's webpage.\n",
        "In order to submit the results,\n",
        "you need to register a Kaggle account.\n",
        "\n",
        "![CIFAR-10 image classification competition webpage information. The competition dataset can be obtained by clicking the \"Data\" tab.](https://github.com/d2l-ai/d2l-pytorch-colab/blob/master/img/kaggle-cifar10.png?raw=1)\n",
        ":width:`600px`\n",
        ":label:`fig_kaggle_cifar10`\n"
      ]
    },
    {
      "cell_type": "code",
      "execution_count": 6,
      "id": "e5a3fb64",
      "metadata": {
        "execution": {
          "iopub.execute_input": "2023-08-18T19:29:26.260293Z",
          "iopub.status.busy": "2023-08-18T19:29:26.259545Z",
          "iopub.status.idle": "2023-08-18T19:29:29.089576Z",
          "shell.execute_reply": "2023-08-18T19:29:29.088675Z"
        },
        "origin_pos": 2,
        "tab": [
          "pytorch"
        ],
        "id": "e5a3fb64"
      },
      "outputs": [],
      "source": [
        "import collections\n",
        "import math\n",
        "import os\n",
        "import shutil\n",
        "import pandas as pd\n",
        "import torchvision\n",
        "from torch import nn"
      ]
    },
    {
      "cell_type": "markdown",
      "id": "403ecf47",
      "metadata": {
        "origin_pos": 3,
        "id": "403ecf47"
      },
      "source": [
        "## Obtaining and Organizing the Dataset\n",
        "\n",
        "The competition dataset is divided into\n",
        "a training set and a test set,\n",
        "which contain 50000 and 300000 images, respectively.\n",
        "In the test set,\n",
        "10000 images will be used for evaluation,\n",
        "while the remaining 290000 images will not\n",
        "be evaluated:\n",
        "they are included just\n",
        "to make it hard\n",
        "to cheat with\n",
        "*manually* labeled results of the test set.\n",
        "The images in this dataset\n",
        "are all png color (RGB channels) image files,\n",
        "whose height and width are both 32 pixels.\n",
        "The images cover a total of 10 categories, namely airplanes, cars, birds, cats, deer, dogs, frogs, horses, boats, and trucks.\n",
        "The upper-left corner of :numref:`fig_kaggle_cifar10` shows some images of airplanes, cars, and birds in the dataset.\n",
        "\n",
        "\n",
        "### Downloading the Dataset\n",
        "\n",
        "After logging in to Kaggle, we can click the \"Data\" tab on the CIFAR-10 image classification competition webpage shown in :numref:`fig_kaggle_cifar10` and download the dataset by clicking the \"Download All\" button.\n",
        "After unzipping the downloaded file in `../data`, and unzipping `train.7z` and `test.7z` inside it, you will find the entire dataset in the following paths:\n",
        "\n",
        "* `../data/cifar-10/train/[1-50000].png`\n",
        "* `../data/cifar-10/test/[1-300000].png`\n",
        "* `../data/cifar-10/trainLabels.csv`\n",
        "* `../data/cifar-10/sampleSubmission.csv`\n",
        "\n",
        "where the `train` and `test` directories contain the training and testing images, respectively, `trainLabels.csv` provides labels for the training images, and `sample_submission.csv` is a sample submission file.\n",
        "\n",
        "To make it easier to get started, [**we provide a small-scale sample of the dataset that\n",
        "contains the first 1000 training images and 5 random testing images.**]\n",
        "To use the full dataset of the Kaggle competition, you need to set the following `demo` variable to `False`.\n"
      ]
    },
    {
      "cell_type": "code",
      "execution_count": 7,
      "id": "0d41dcd1",
      "metadata": {
        "execution": {
          "iopub.execute_input": "2023-08-18T19:29:29.095074Z",
          "iopub.status.busy": "2023-08-18T19:29:29.094404Z",
          "iopub.status.idle": "2023-08-18T19:29:29.393994Z",
          "shell.execute_reply": "2023-08-18T19:29:29.393137Z"
        },
        "origin_pos": 4,
        "tab": [
          "pytorch"
        ],
        "id": "0d41dcd1",
        "outputId": "bb0b4070-512c-446e-9a15-918ad55d0e81",
        "colab": {
          "base_uri": "https://localhost:8080/"
        }
      },
      "outputs": [
        {
          "output_type": "stream",
          "name": "stdout",
          "text": [
            "Downloading ../data/kaggle_cifar10_tiny.zip from http://d2l-data.s3-accelerate.amazonaws.com/kaggle_cifar10_tiny.zip...\n"
          ]
        }
      ],
      "source": [
        "#save\n",
        "d2l.DATA_HUB['cifar10_tiny'] = (d2l.DATA_URL + 'kaggle_cifar10_tiny.zip',\n",
        "                                '2068874e4b9a9f0fb07ebe0ad2b29754449ccacd')\n",
        "\n",
        "# If you use the full dataset downloaded for the Kaggle competition, set\n",
        "# `demo` to False\n",
        "demo = True\n",
        "\n",
        "if demo:\n",
        "    data_dir = d2l.download_extract('cifar10_tiny')\n",
        "else:\n",
        "    data_dir = '../data/cifar-10/'"
      ]
    },
    {
      "cell_type": "markdown",
      "id": "0f716217",
      "metadata": {
        "origin_pos": 5,
        "id": "0f716217"
      },
      "source": [
        "### [**Organizing the Dataset**]\n",
        "\n",
        "We need to organize datasets to facilitate model training and testing.\n",
        "Let's first read the labels from the csv file.\n",
        "The following function returns a dictionary that maps\n",
        "the non-extension part of the filename to its label.\n"
      ]
    },
    {
      "cell_type": "code",
      "execution_count": 8,
      "id": "04bf8387",
      "metadata": {
        "execution": {
          "iopub.execute_input": "2023-08-18T19:29:29.399003Z",
          "iopub.status.busy": "2023-08-18T19:29:29.398718Z",
          "iopub.status.idle": "2023-08-18T19:29:29.406335Z",
          "shell.execute_reply": "2023-08-18T19:29:29.405552Z"
        },
        "origin_pos": 6,
        "tab": [
          "pytorch"
        ],
        "id": "04bf8387",
        "outputId": "e521ff13-3c3c-4780-a474-4cc6a4666af5",
        "colab": {
          "base_uri": "https://localhost:8080/"
        }
      },
      "outputs": [
        {
          "output_type": "stream",
          "name": "stdout",
          "text": [
            "# training examples: 1000\n",
            "# classes: 10\n"
          ]
        }
      ],
      "source": [
        "#save\n",
        "def read_csv_labels(fname):\n",
        "    \"\"\"Read `fname` to return a filename to label dictionary.\"\"\"\n",
        "    with open(fname, 'r') as f:\n",
        "        # Skip the file header line (column name)\n",
        "        lines = f.readlines()[1:]\n",
        "    tokens = [l.rstrip().split(',') for l in lines]\n",
        "    return dict(((name, label) for name, label in tokens))\n",
        "\n",
        "labels = read_csv_labels(os.path.join(data_dir, 'trainLabels.csv'))\n",
        "print('# training examples:', len(labels))\n",
        "print('# classes:', len(set(labels.values())))"
      ]
    },
    {
      "cell_type": "markdown",
      "id": "abdf4d16",
      "metadata": {
        "origin_pos": 7,
        "id": "abdf4d16"
      },
      "source": [
        "Next, we define the `reorg_train_valid` function to [**split the validation set out of the original training set.**]\n",
        "The argument `valid_ratio` in this function is the ratio of the number of examples in the validation set to the number of examples in the original training set.\n",
        "More concretely,\n",
        "let $n$ be the number of images of the class with the least examples, and $r$ be the ratio.\n",
        "The validation set will split out\n",
        "$\\max(\\lfloor nr\\rfloor,1)$ images for each class.\n",
        "Let's use `valid_ratio=0.1` as an example. Since the original training set has 50000 images,\n",
        "there will be 45000 images used for training in the path `train_valid_test/train`,\n",
        "while the other 5000 images will be split out\n",
        "as validation set in the path `train_valid_test/valid`. After organizing the dataset, images of the same class will be placed under the same folder.\n"
      ]
    },
    {
      "cell_type": "code",
      "execution_count": 9,
      "id": "0ae3357e",
      "metadata": {
        "execution": {
          "iopub.execute_input": "2023-08-18T19:29:29.411145Z",
          "iopub.status.busy": "2023-08-18T19:29:29.410869Z",
          "iopub.status.idle": "2023-08-18T19:29:29.418258Z",
          "shell.execute_reply": "2023-08-18T19:29:29.417439Z"
        },
        "origin_pos": 8,
        "tab": [
          "pytorch"
        ],
        "id": "0ae3357e"
      },
      "outputs": [],
      "source": [
        "#save\n",
        "def copyfile(filename, target_dir):\n",
        "    \"\"\"Copy a file into a target directory.\"\"\"\n",
        "    os.makedirs(target_dir, exist_ok=True)\n",
        "    shutil.copy(filename, target_dir)\n",
        "\n",
        "#save\n",
        "def reorg_train_valid(data_dir, labels, valid_ratio):\n",
        "    \"\"\"Split the validation set out of the original training set.\"\"\"\n",
        "    # The number of examples of the class that has the fewest examples in the\n",
        "    # training dataset\n",
        "    n = collections.Counter(labels.values()).most_common()[-1][1]\n",
        "    # The number of examples per class for the validation set\n",
        "    n_valid_per_label = max(1, math.floor(n * valid_ratio))\n",
        "    label_count = {}\n",
        "    for train_file in os.listdir(os.path.join(data_dir, 'train')):\n",
        "        label = labels[train_file.split('.')[0]]\n",
        "        fname = os.path.join(data_dir, 'train', train_file)\n",
        "        copyfile(fname, os.path.join(data_dir, 'train_valid_test',\n",
        "                                     'train_valid', label))\n",
        "        if label not in label_count or label_count[label] < n_valid_per_label:\n",
        "            copyfile(fname, os.path.join(data_dir, 'train_valid_test',\n",
        "                                         'valid', label))\n",
        "            label_count[label] = label_count.get(label, 0) + 1\n",
        "        else:\n",
        "            copyfile(fname, os.path.join(data_dir, 'train_valid_test',\n",
        "                                         'train', label))\n",
        "    return n_valid_per_label"
      ]
    },
    {
      "cell_type": "markdown",
      "id": "6d2cfa19",
      "metadata": {
        "origin_pos": 9,
        "id": "6d2cfa19"
      },
      "source": [
        "The `reorg_test` function below [**organizes the testing set for data loading during prediction.**]\n"
      ]
    },
    {
      "cell_type": "code",
      "execution_count": 10,
      "id": "890972a8",
      "metadata": {
        "execution": {
          "iopub.execute_input": "2023-08-18T19:29:29.422565Z",
          "iopub.status.busy": "2023-08-18T19:29:29.422289Z",
          "iopub.status.idle": "2023-08-18T19:29:29.426856Z",
          "shell.execute_reply": "2023-08-18T19:29:29.426083Z"
        },
        "origin_pos": 10,
        "tab": [
          "pytorch"
        ],
        "id": "890972a8"
      },
      "outputs": [],
      "source": [
        "#save\n",
        "def reorg_test(data_dir):\n",
        "    \"\"\"Organize the testing set for data loading during prediction.\"\"\"\n",
        "    for test_file in os.listdir(os.path.join(data_dir, 'test')):\n",
        "        copyfile(os.path.join(data_dir, 'test', test_file),\n",
        "                 os.path.join(data_dir, 'train_valid_test', 'test',\n",
        "                              'unknown'))"
      ]
    },
    {
      "cell_type": "markdown",
      "id": "0e790936",
      "metadata": {
        "origin_pos": 11,
        "id": "0e790936"
      },
      "source": [
        "Finally, we use a function to [**invoke**]\n",
        "the `read_csv_labels`, `reorg_train_valid`, and `reorg_test` (**functions defined above.**)\n"
      ]
    },
    {
      "cell_type": "code",
      "execution_count": 11,
      "id": "00f50b41",
      "metadata": {
        "execution": {
          "iopub.execute_input": "2023-08-18T19:29:29.431514Z",
          "iopub.status.busy": "2023-08-18T19:29:29.430810Z",
          "iopub.status.idle": "2023-08-18T19:29:29.434961Z",
          "shell.execute_reply": "2023-08-18T19:29:29.434181Z"
        },
        "origin_pos": 12,
        "tab": [
          "pytorch"
        ],
        "id": "00f50b41"
      },
      "outputs": [],
      "source": [
        "def reorg_cifar10_data(data_dir, valid_ratio):\n",
        "    labels = read_csv_labels(os.path.join(data_dir, 'trainLabels.csv'))\n",
        "    reorg_train_valid(data_dir, labels, valid_ratio)\n",
        "    reorg_test(data_dir)"
      ]
    },
    {
      "cell_type": "markdown",
      "id": "d0454395",
      "metadata": {
        "origin_pos": 13,
        "id": "d0454395"
      },
      "source": [
        "Here we only set the batch size to 32 for the small-scale sample of the dataset.\n",
        "When training and testing\n",
        "the complete dataset of the Kaggle competition,\n",
        "`batch_size` should be set to a larger integer, such as 128.\n",
        "We split out 10% of the training examples as the validation set for tuning hyperparameters.\n"
      ]
    },
    {
      "cell_type": "code",
      "execution_count": 12,
      "id": "1daf58c4",
      "metadata": {
        "execution": {
          "iopub.execute_input": "2023-08-18T19:29:29.439643Z",
          "iopub.status.busy": "2023-08-18T19:29:29.438882Z",
          "iopub.status.idle": "2023-08-18T19:29:29.700309Z",
          "shell.execute_reply": "2023-08-18T19:29:29.699321Z"
        },
        "origin_pos": 14,
        "tab": [
          "pytorch"
        ],
        "id": "1daf58c4"
      },
      "outputs": [],
      "source": [
        "batch_size = 32 if demo else 128\n",
        "valid_ratio = 0.1\n",
        "reorg_cifar10_data(data_dir, valid_ratio)"
      ]
    },
    {
      "cell_type": "markdown",
      "id": "240c5c50",
      "metadata": {
        "origin_pos": 15,
        "id": "240c5c50"
      },
      "source": [
        "## [**Image Augmentation**]\n",
        "\n",
        "We use image augmentation to address overfitting.\n",
        "For example, images can be flipped horizontally at random during training.\n",
        "We can also perform standardization for the three RGB channels of color images. Below lists some of these operations that you can tweak.\n"
      ]
    },
    {
      "cell_type": "code",
      "execution_count": 13,
      "id": "70e97f85",
      "metadata": {
        "execution": {
          "iopub.execute_input": "2023-08-18T19:29:29.705470Z",
          "iopub.status.busy": "2023-08-18T19:29:29.704953Z",
          "iopub.status.idle": "2023-08-18T19:29:29.710326Z",
          "shell.execute_reply": "2023-08-18T19:29:29.709544Z"
        },
        "origin_pos": 17,
        "tab": [
          "pytorch"
        ],
        "id": "70e97f85"
      },
      "outputs": [],
      "source": [
        "transform_train = torchvision.transforms.Compose([\n",
        "    # Scale the image up to a square of 40 pixels in both height and width\n",
        "    torchvision.transforms.Resize(40),\n",
        "    # Randomly crop a square image of 40 pixels in both height and width to\n",
        "    # produce a small square of 0.64 to 1 times the area of the original\n",
        "    # image, and then scale it to a square of 32 pixels in both height and\n",
        "    # width\n",
        "    torchvision.transforms.RandomResizedCrop(32, scale=(0.64, 1.0),\n",
        "                                                   ratio=(1.0, 1.0)),\n",
        "    torchvision.transforms.RandomHorizontalFlip(),\n",
        "    torchvision.transforms.ToTensor(),\n",
        "    # Standardize each channel of the image\n",
        "    torchvision.transforms.Normalize([0.4914, 0.4822, 0.4465],\n",
        "                                     [0.2023, 0.1994, 0.2010])])"
      ]
    },
    {
      "cell_type": "markdown",
      "id": "d7593105",
      "metadata": {
        "origin_pos": 18,
        "id": "d7593105"
      },
      "source": [
        "During testing,\n",
        "we only perform standardization on images\n",
        "so as to\n",
        "remove randomness in the evaluation results.\n"
      ]
    },
    {
      "cell_type": "code",
      "execution_count": 14,
      "id": "be0d5428",
      "metadata": {
        "execution": {
          "iopub.execute_input": "2023-08-18T19:29:29.714890Z",
          "iopub.status.busy": "2023-08-18T19:29:29.714292Z",
          "iopub.status.idle": "2023-08-18T19:29:29.718602Z",
          "shell.execute_reply": "2023-08-18T19:29:29.717807Z"
        },
        "origin_pos": 20,
        "tab": [
          "pytorch"
        ],
        "id": "be0d5428"
      },
      "outputs": [],
      "source": [
        "transform_test = torchvision.transforms.Compose([\n",
        "    torchvision.transforms.ToTensor(),\n",
        "    torchvision.transforms.Normalize([0.4914, 0.4822, 0.4465],\n",
        "                                     [0.2023, 0.1994, 0.2010])])"
      ]
    },
    {
      "cell_type": "markdown",
      "id": "27f918e0",
      "metadata": {
        "origin_pos": 21,
        "id": "27f918e0"
      },
      "source": [
        "## Reading the Dataset\n",
        "\n",
        "Next, we [**read the organized dataset consisting of raw image files**]. Each example includes an image and a label.\n"
      ]
    },
    {
      "cell_type": "code",
      "execution_count": 15,
      "id": "056ac33a",
      "metadata": {
        "execution": {
          "iopub.execute_input": "2023-08-18T19:29:29.722917Z",
          "iopub.status.busy": "2023-08-18T19:29:29.722506Z",
          "iopub.status.idle": "2023-08-18T19:29:29.733889Z",
          "shell.execute_reply": "2023-08-18T19:29:29.733119Z"
        },
        "origin_pos": 23,
        "tab": [
          "pytorch"
        ],
        "id": "056ac33a"
      },
      "outputs": [],
      "source": [
        "train_ds, train_valid_ds = [torchvision.datasets.ImageFolder(\n",
        "    os.path.join(data_dir, 'train_valid_test', folder),\n",
        "    transform=transform_train) for folder in ['train', 'train_valid']]\n",
        "\n",
        "valid_ds, test_ds = [torchvision.datasets.ImageFolder(\n",
        "    os.path.join(data_dir, 'train_valid_test', folder),\n",
        "    transform=transform_test) for folder in ['valid', 'test']]"
      ]
    },
    {
      "cell_type": "markdown",
      "id": "16747ae7",
      "metadata": {
        "origin_pos": 24,
        "id": "16747ae7"
      },
      "source": [
        "During training,\n",
        "we need to [**specify all the image augmentation operations defined above**].\n",
        "When the validation set\n",
        "is used for model evaluation during hyperparameter tuning,\n",
        "no randomness from image augmentation should be introduced.\n",
        "Before final prediction,\n",
        "we train the model on the combined training set and validation set to make full use of all the labeled data.\n"
      ]
    },
    {
      "cell_type": "code",
      "execution_count": 16,
      "id": "06fa7207",
      "metadata": {
        "execution": {
          "iopub.execute_input": "2023-08-18T19:29:29.738557Z",
          "iopub.status.busy": "2023-08-18T19:29:29.737952Z",
          "iopub.status.idle": "2023-08-18T19:29:29.743073Z",
          "shell.execute_reply": "2023-08-18T19:29:29.742323Z"
        },
        "origin_pos": 26,
        "tab": [
          "pytorch"
        ],
        "id": "06fa7207"
      },
      "outputs": [],
      "source": [
        "train_iter, train_valid_iter = [torch.utils.data.DataLoader(\n",
        "    dataset, batch_size, shuffle=True, drop_last=True)\n",
        "    for dataset in (train_ds, train_valid_ds)]\n",
        "\n",
        "valid_iter = torch.utils.data.DataLoader(valid_ds, batch_size, shuffle=False,\n",
        "                                         drop_last=True)\n",
        "\n",
        "test_iter = torch.utils.data.DataLoader(test_ds, batch_size, shuffle=False,\n",
        "                                        drop_last=False)"
      ]
    },
    {
      "cell_type": "markdown",
      "id": "9e84ffa3",
      "metadata": {
        "origin_pos": 27,
        "id": "9e84ffa3"
      },
      "source": [
        "## Defining the [**Model**]\n"
      ]
    },
    {
      "cell_type": "markdown",
      "id": "aceea7ad",
      "metadata": {
        "origin_pos": 33,
        "tab": [
          "pytorch"
        ],
        "id": "aceea7ad"
      },
      "source": [
        "We define the ResNet-18 model described in\n",
        ":numref:`sec_resnet`.\n"
      ]
    },
    {
      "cell_type": "code",
      "execution_count": 17,
      "id": "d527425d",
      "metadata": {
        "execution": {
          "iopub.execute_input": "2023-08-18T19:29:29.747678Z",
          "iopub.status.busy": "2023-08-18T19:29:29.747059Z",
          "iopub.status.idle": "2023-08-18T19:29:29.751129Z",
          "shell.execute_reply": "2023-08-18T19:29:29.750380Z"
        },
        "origin_pos": 35,
        "tab": [
          "pytorch"
        ],
        "id": "d527425d"
      },
      "outputs": [],
      "source": [
        "def get_net():\n",
        "    num_classes = 10\n",
        "    net = d2l.resnet18(num_classes, 3)\n",
        "    return net\n",
        "\n",
        "loss = nn.CrossEntropyLoss(reduction=\"none\")"
      ]
    },
    {
      "cell_type": "markdown",
      "id": "b0d9de60",
      "metadata": {
        "origin_pos": 36,
        "id": "b0d9de60"
      },
      "source": [
        "## Defining the [**Training Function**]\n",
        "\n",
        "We will select models and tune hyperparameters according to the model's performance on the validation set.\n",
        "In the following, we define the model training function `train`.\n"
      ]
    },
    {
      "cell_type": "code",
      "execution_count": 18,
      "id": "bde40789",
      "metadata": {
        "execution": {
          "iopub.execute_input": "2023-08-18T19:29:29.755665Z",
          "iopub.status.busy": "2023-08-18T19:29:29.755131Z",
          "iopub.status.idle": "2023-08-18T19:29:29.764392Z",
          "shell.execute_reply": "2023-08-18T19:29:29.763621Z"
        },
        "origin_pos": 38,
        "tab": [
          "pytorch"
        ],
        "id": "bde40789"
      },
      "outputs": [],
      "source": [
        "def train(net, train_iter, valid_iter, num_epochs, lr, wd, devices, lr_period,\n",
        "          lr_decay):\n",
        "    trainer = torch.optim.SGD(net.parameters(), lr=lr, momentum=0.9,\n",
        "                              weight_decay=wd)\n",
        "    scheduler = torch.optim.lr_scheduler.StepLR(trainer, lr_period, lr_decay)\n",
        "    num_batches, timer = len(train_iter), d2l.Timer()\n",
        "    legend = ['train loss', 'train acc']\n",
        "    if valid_iter is not None:\n",
        "        legend.append('valid acc')\n",
        "    animator = d2l.Animator(xlabel='epoch', xlim=[1, num_epochs],\n",
        "                            legend=legend)\n",
        "    net = nn.DataParallel(net, device_ids=devices).to(devices[0])\n",
        "    for epoch in range(num_epochs):\n",
        "        net.train()\n",
        "        metric = d2l.Accumulator(3)\n",
        "        for i, (features, labels) in enumerate(train_iter):\n",
        "            timer.start()\n",
        "            l, acc = d2l.train_batch_ch13(net, features, labels,\n",
        "                                          loss, trainer, devices)\n",
        "            metric.add(l, acc, labels.shape[0])\n",
        "            timer.stop()\n",
        "            if (i + 1) % (num_batches // 5) == 0 or i == num_batches - 1:\n",
        "                animator.add(epoch + (i + 1) / num_batches,\n",
        "                             (metric[0] / metric[2], metric[1] / metric[2],\n",
        "                              None))\n",
        "        if valid_iter is not None:\n",
        "            valid_acc = d2l.evaluate_accuracy_gpu(net, valid_iter)\n",
        "            animator.add(epoch + 1, (None, None, valid_acc))\n",
        "        scheduler.step()\n",
        "    measures = (f'train loss {metric[0] / metric[2]:.3f}, '\n",
        "                f'train acc {metric[1] / metric[2]:.3f}')\n",
        "    if valid_iter is not None:\n",
        "        measures += f', valid acc {valid_acc:.3f}'\n",
        "    print(measures + f'\\n{metric[2] * num_epochs / timer.sum():.1f}'\n",
        "          f' examples/sec on {str(devices)}')"
      ]
    },
    {
      "cell_type": "markdown",
      "id": "f285eced",
      "metadata": {
        "origin_pos": 39,
        "id": "f285eced"
      },
      "source": [
        "## [**Training and Validating the Model**]\n",
        "\n",
        "Now, we can train and validate the model.\n",
        "All the following hyperparameters can be tuned.\n",
        "For example, we can increase the number of epochs.\n",
        "When `lr_period` and `lr_decay` are set to 4 and 0.9, respectively, the learning rate of the optimization algorithm will be multiplied by 0.9 after every 4 epochs. Just for ease of demonstration,\n",
        "we only train 20 epochs here.\n"
      ]
    },
    {
      "cell_type": "code",
      "execution_count": 19,
      "id": "cd4a55c7",
      "metadata": {
        "execution": {
          "iopub.execute_input": "2023-08-18T19:29:29.768734Z",
          "iopub.status.busy": "2023-08-18T19:29:29.768227Z",
          "iopub.status.idle": "2023-08-18T19:30:37.496878Z",
          "shell.execute_reply": "2023-08-18T19:30:37.495860Z"
        },
        "origin_pos": 41,
        "tab": [
          "pytorch"
        ],
        "id": "cd4a55c7",
        "outputId": "0433c251-32b9-40a7-8dee-119fd79a3d81",
        "colab": {
          "base_uri": "https://localhost:8080/",
          "height": 300
        }
      },
      "outputs": [
        {
          "output_type": "stream",
          "name": "stdout",
          "text": [
            "train loss 0.641, train acc 0.786, valid acc 0.469\n",
            "698.3 examples/sec on [device(type='cuda', index=0)]\n"
          ]
        },
        {
          "output_type": "display_data",
          "data": {
            "text/plain": [
              "<Figure size 350x250 with 1 Axes>"
            ],
            "image/svg+xml": "<?xml version=\"1.0\" encoding=\"utf-8\" standalone=\"no\"?>\n<!DOCTYPE svg PUBLIC \"-//W3C//DTD SVG 1.1//EN\"\n  \"http://www.w3.org/Graphics/SVG/1.1/DTD/svg11.dtd\">\n<svg xmlns:xlink=\"http://www.w3.org/1999/xlink\" width=\"238.965625pt\" height=\"183.35625pt\" viewBox=\"0 0 238.965625 183.35625\" xmlns=\"http://www.w3.org/2000/svg\" version=\"1.1\">\n <metadata>\n  <rdf:RDF xmlns:dc=\"http://purl.org/dc/elements/1.1/\" xmlns:cc=\"http://creativecommons.org/ns#\" xmlns:rdf=\"http://www.w3.org/1999/02/22-rdf-syntax-ns#\">\n   <cc:Work>\n    <dc:type rdf:resource=\"http://purl.org/dc/dcmitype/StillImage\"/>\n    <dc:date>2023-11-17T10:50:06.246879</dc:date>\n    <dc:format>image/svg+xml</dc:format>\n    <dc:creator>\n     <cc:Agent>\n      <dc:title>Matplotlib v3.7.1, https://matplotlib.org/</dc:title>\n     </cc:Agent>\n    </dc:creator>\n   </cc:Work>\n  </rdf:RDF>\n </metadata>\n <defs>\n  <style type=\"text/css\">*{stroke-linejoin: round; stroke-linecap: butt}</style>\n </defs>\n <g id=\"figure_1\">\n  <g id=\"patch_1\">\n   <path d=\"M 0 183.35625 \nL 238.965625 183.35625 \nL 238.965625 0 \nL 0 0 \nz\n\" style=\"fill: #ffffff\"/>\n  </g>\n  <g id=\"axes_1\">\n   <g id=\"patch_2\">\n    <path d=\"M 30.103125 145.8 \nL 225.403125 145.8 \nL 225.403125 7.2 \nL 30.103125 7.2 \nz\n\" style=\"fill: #ffffff\"/>\n   </g>\n   <g id=\"matplotlib.axis_1\">\n    <g id=\"xtick_1\">\n     <g id=\"line2d_1\">\n      <path d=\"M 71.218914 145.8 \nL 71.218914 7.2 \n\" clip-path=\"url(#pa10fbfde00)\" style=\"fill: none; stroke: #b0b0b0; stroke-width: 0.8; stroke-linecap: square\"/>\n     </g>\n     <g id=\"line2d_2\">\n      <defs>\n       <path id=\"m5bc8ad44df\" d=\"M 0 0 \nL 0 3.5 \n\" style=\"stroke: #000000; stroke-width: 0.8\"/>\n      </defs>\n      <g>\n       <use xlink:href=\"#m5bc8ad44df\" x=\"71.218914\" y=\"145.8\" style=\"stroke: #000000; stroke-width: 0.8\"/>\n      </g>\n     </g>\n     <g id=\"text_1\">\n      <!-- 5 -->\n      <g transform=\"translate(68.037664 160.398438) scale(0.1 -0.1)\">\n       <defs>\n        <path id=\"DejaVuSans-35\" d=\"M 691 4666 \nL 3169 4666 \nL 3169 4134 \nL 1269 4134 \nL 1269 2991 \nQ 1406 3038 1543 3061 \nQ 1681 3084 1819 3084 \nQ 2600 3084 3056 2656 \nQ 3513 2228 3513 1497 \nQ 3513 744 3044 326 \nQ 2575 -91 1722 -91 \nQ 1428 -91 1123 -41 \nQ 819 9 494 109 \nL 494 744 \nQ 775 591 1075 516 \nQ 1375 441 1709 441 \nQ 2250 441 2565 725 \nQ 2881 1009 2881 1497 \nQ 2881 1984 2565 2268 \nQ 2250 2553 1709 2553 \nQ 1456 2553 1204 2497 \nQ 953 2441 691 2322 \nL 691 4666 \nz\n\" transform=\"scale(0.015625)\"/>\n       </defs>\n       <use xlink:href=\"#DejaVuSans-35\"/>\n      </g>\n     </g>\n    </g>\n    <g id=\"xtick_2\">\n     <g id=\"line2d_3\">\n      <path d=\"M 122.613651 145.8 \nL 122.613651 7.2 \n\" clip-path=\"url(#pa10fbfde00)\" style=\"fill: none; stroke: #b0b0b0; stroke-width: 0.8; stroke-linecap: square\"/>\n     </g>\n     <g id=\"line2d_4\">\n      <g>\n       <use xlink:href=\"#m5bc8ad44df\" x=\"122.613651\" y=\"145.8\" style=\"stroke: #000000; stroke-width: 0.8\"/>\n      </g>\n     </g>\n     <g id=\"text_2\">\n      <!-- 10 -->\n      <g transform=\"translate(116.251151 160.398438) scale(0.1 -0.1)\">\n       <defs>\n        <path id=\"DejaVuSans-31\" d=\"M 794 531 \nL 1825 531 \nL 1825 4091 \nL 703 3866 \nL 703 4441 \nL 1819 4666 \nL 2450 4666 \nL 2450 531 \nL 3481 531 \nL 3481 0 \nL 794 0 \nL 794 531 \nz\n\" transform=\"scale(0.015625)\"/>\n        <path id=\"DejaVuSans-30\" d=\"M 2034 4250 \nQ 1547 4250 1301 3770 \nQ 1056 3291 1056 2328 \nQ 1056 1369 1301 889 \nQ 1547 409 2034 409 \nQ 2525 409 2770 889 \nQ 3016 1369 3016 2328 \nQ 3016 3291 2770 3770 \nQ 2525 4250 2034 4250 \nz\nM 2034 4750 \nQ 2819 4750 3233 4129 \nQ 3647 3509 3647 2328 \nQ 3647 1150 3233 529 \nQ 2819 -91 2034 -91 \nQ 1250 -91 836 529 \nQ 422 1150 422 2328 \nQ 422 3509 836 4129 \nQ 1250 4750 2034 4750 \nz\n\" transform=\"scale(0.015625)\"/>\n       </defs>\n       <use xlink:href=\"#DejaVuSans-31\"/>\n       <use xlink:href=\"#DejaVuSans-30\" x=\"63.623047\"/>\n      </g>\n     </g>\n    </g>\n    <g id=\"xtick_3\">\n     <g id=\"line2d_5\">\n      <path d=\"M 174.008388 145.8 \nL 174.008388 7.2 \n\" clip-path=\"url(#pa10fbfde00)\" style=\"fill: none; stroke: #b0b0b0; stroke-width: 0.8; stroke-linecap: square\"/>\n     </g>\n     <g id=\"line2d_6\">\n      <g>\n       <use xlink:href=\"#m5bc8ad44df\" x=\"174.008388\" y=\"145.8\" style=\"stroke: #000000; stroke-width: 0.8\"/>\n      </g>\n     </g>\n     <g id=\"text_3\">\n      <!-- 15 -->\n      <g transform=\"translate(167.645888 160.398438) scale(0.1 -0.1)\">\n       <use xlink:href=\"#DejaVuSans-31\"/>\n       <use xlink:href=\"#DejaVuSans-35\" x=\"63.623047\"/>\n      </g>\n     </g>\n    </g>\n    <g id=\"xtick_4\">\n     <g id=\"line2d_7\">\n      <path d=\"M 225.403125 145.8 \nL 225.403125 7.2 \n\" clip-path=\"url(#pa10fbfde00)\" style=\"fill: none; stroke: #b0b0b0; stroke-width: 0.8; stroke-linecap: square\"/>\n     </g>\n     <g id=\"line2d_8\">\n      <g>\n       <use xlink:href=\"#m5bc8ad44df\" x=\"225.403125\" y=\"145.8\" style=\"stroke: #000000; stroke-width: 0.8\"/>\n      </g>\n     </g>\n     <g id=\"text_4\">\n      <!-- 20 -->\n      <g transform=\"translate(219.040625 160.398438) scale(0.1 -0.1)\">\n       <defs>\n        <path id=\"DejaVuSans-32\" d=\"M 1228 531 \nL 3431 531 \nL 3431 0 \nL 469 0 \nL 469 531 \nQ 828 903 1448 1529 \nQ 2069 2156 2228 2338 \nQ 2531 2678 2651 2914 \nQ 2772 3150 2772 3378 \nQ 2772 3750 2511 3984 \nQ 2250 4219 1831 4219 \nQ 1534 4219 1204 4116 \nQ 875 4013 500 3803 \nL 500 4441 \nQ 881 4594 1212 4672 \nQ 1544 4750 1819 4750 \nQ 2544 4750 2975 4387 \nQ 3406 4025 3406 3419 \nQ 3406 3131 3298 2873 \nQ 3191 2616 2906 2266 \nQ 2828 2175 2409 1742 \nQ 1991 1309 1228 531 \nz\n\" transform=\"scale(0.015625)\"/>\n       </defs>\n       <use xlink:href=\"#DejaVuSans-32\"/>\n       <use xlink:href=\"#DejaVuSans-30\" x=\"63.623047\"/>\n      </g>\n     </g>\n    </g>\n    <g id=\"text_5\">\n     <!-- epoch -->\n     <g transform=\"translate(112.525 174.076563) scale(0.1 -0.1)\">\n      <defs>\n       <path id=\"DejaVuSans-65\" d=\"M 3597 1894 \nL 3597 1613 \nL 953 1613 \nQ 991 1019 1311 708 \nQ 1631 397 2203 397 \nQ 2534 397 2845 478 \nQ 3156 559 3463 722 \nL 3463 178 \nQ 3153 47 2828 -22 \nQ 2503 -91 2169 -91 \nQ 1331 -91 842 396 \nQ 353 884 353 1716 \nQ 353 2575 817 3079 \nQ 1281 3584 2069 3584 \nQ 2775 3584 3186 3129 \nQ 3597 2675 3597 1894 \nz\nM 3022 2063 \nQ 3016 2534 2758 2815 \nQ 2500 3097 2075 3097 \nQ 1594 3097 1305 2825 \nQ 1016 2553 972 2059 \nL 3022 2063 \nz\n\" transform=\"scale(0.015625)\"/>\n       <path id=\"DejaVuSans-70\" d=\"M 1159 525 \nL 1159 -1331 \nL 581 -1331 \nL 581 3500 \nL 1159 3500 \nL 1159 2969 \nQ 1341 3281 1617 3432 \nQ 1894 3584 2278 3584 \nQ 2916 3584 3314 3078 \nQ 3713 2572 3713 1747 \nQ 3713 922 3314 415 \nQ 2916 -91 2278 -91 \nQ 1894 -91 1617 61 \nQ 1341 213 1159 525 \nz\nM 3116 1747 \nQ 3116 2381 2855 2742 \nQ 2594 3103 2138 3103 \nQ 1681 3103 1420 2742 \nQ 1159 2381 1159 1747 \nQ 1159 1113 1420 752 \nQ 1681 391 2138 391 \nQ 2594 391 2855 752 \nQ 3116 1113 3116 1747 \nz\n\" transform=\"scale(0.015625)\"/>\n       <path id=\"DejaVuSans-6f\" d=\"M 1959 3097 \nQ 1497 3097 1228 2736 \nQ 959 2375 959 1747 \nQ 959 1119 1226 758 \nQ 1494 397 1959 397 \nQ 2419 397 2687 759 \nQ 2956 1122 2956 1747 \nQ 2956 2369 2687 2733 \nQ 2419 3097 1959 3097 \nz\nM 1959 3584 \nQ 2709 3584 3137 3096 \nQ 3566 2609 3566 1747 \nQ 3566 888 3137 398 \nQ 2709 -91 1959 -91 \nQ 1206 -91 779 398 \nQ 353 888 353 1747 \nQ 353 2609 779 3096 \nQ 1206 3584 1959 3584 \nz\n\" transform=\"scale(0.015625)\"/>\n       <path id=\"DejaVuSans-63\" d=\"M 3122 3366 \nL 3122 2828 \nQ 2878 2963 2633 3030 \nQ 2388 3097 2138 3097 \nQ 1578 3097 1268 2742 \nQ 959 2388 959 1747 \nQ 959 1106 1268 751 \nQ 1578 397 2138 397 \nQ 2388 397 2633 464 \nQ 2878 531 3122 666 \nL 3122 134 \nQ 2881 22 2623 -34 \nQ 2366 -91 2075 -91 \nQ 1284 -91 818 406 \nQ 353 903 353 1747 \nQ 353 2603 823 3093 \nQ 1294 3584 2113 3584 \nQ 2378 3584 2631 3529 \nQ 2884 3475 3122 3366 \nz\n\" transform=\"scale(0.015625)\"/>\n       <path id=\"DejaVuSans-68\" d=\"M 3513 2113 \nL 3513 0 \nL 2938 0 \nL 2938 2094 \nQ 2938 2591 2744 2837 \nQ 2550 3084 2163 3084 \nQ 1697 3084 1428 2787 \nQ 1159 2491 1159 1978 \nL 1159 0 \nL 581 0 \nL 581 4863 \nL 1159 4863 \nL 1159 2956 \nQ 1366 3272 1645 3428 \nQ 1925 3584 2291 3584 \nQ 2894 3584 3203 3211 \nQ 3513 2838 3513 2113 \nz\n\" transform=\"scale(0.015625)\"/>\n      </defs>\n      <use xlink:href=\"#DejaVuSans-65\"/>\n      <use xlink:href=\"#DejaVuSans-70\" x=\"61.523438\"/>\n      <use xlink:href=\"#DejaVuSans-6f\" x=\"125\"/>\n      <use xlink:href=\"#DejaVuSans-63\" x=\"186.181641\"/>\n      <use xlink:href=\"#DejaVuSans-68\" x=\"241.162109\"/>\n     </g>\n    </g>\n   </g>\n   <g id=\"matplotlib.axis_2\">\n    <g id=\"ytick_1\">\n     <g id=\"line2d_9\">\n      <path d=\"M 30.103125 118.417958 \nL 225.403125 118.417958 \n\" clip-path=\"url(#pa10fbfde00)\" style=\"fill: none; stroke: #b0b0b0; stroke-width: 0.8; stroke-linecap: square\"/>\n     </g>\n     <g id=\"line2d_10\">\n      <defs>\n       <path id=\"m42fd838337\" d=\"M 0 0 \nL -3.5 0 \n\" style=\"stroke: #000000; stroke-width: 0.8\"/>\n      </defs>\n      <g>\n       <use xlink:href=\"#m42fd838337\" x=\"30.103125\" y=\"118.417958\" style=\"stroke: #000000; stroke-width: 0.8\"/>\n      </g>\n     </g>\n     <g id=\"text_6\">\n      <!-- 0.5 -->\n      <g transform=\"translate(7.2 122.217177) scale(0.1 -0.1)\">\n       <defs>\n        <path id=\"DejaVuSans-2e\" d=\"M 684 794 \nL 1344 794 \nL 1344 0 \nL 684 0 \nL 684 794 \nz\n\" transform=\"scale(0.015625)\"/>\n       </defs>\n       <use xlink:href=\"#DejaVuSans-30\"/>\n       <use xlink:href=\"#DejaVuSans-2e\" x=\"63.623047\"/>\n       <use xlink:href=\"#DejaVuSans-35\" x=\"95.410156\"/>\n      </g>\n     </g>\n    </g>\n    <g id=\"ytick_2\">\n     <g id=\"line2d_11\">\n      <path d=\"M 30.103125 89.832139 \nL 225.403125 89.832139 \n\" clip-path=\"url(#pa10fbfde00)\" style=\"fill: none; stroke: #b0b0b0; stroke-width: 0.8; stroke-linecap: square\"/>\n     </g>\n     <g id=\"line2d_12\">\n      <g>\n       <use xlink:href=\"#m42fd838337\" x=\"30.103125\" y=\"89.832139\" style=\"stroke: #000000; stroke-width: 0.8\"/>\n      </g>\n     </g>\n     <g id=\"text_7\">\n      <!-- 1.0 -->\n      <g transform=\"translate(7.2 93.631358) scale(0.1 -0.1)\">\n       <use xlink:href=\"#DejaVuSans-31\"/>\n       <use xlink:href=\"#DejaVuSans-2e\" x=\"63.623047\"/>\n       <use xlink:href=\"#DejaVuSans-30\" x=\"95.410156\"/>\n      </g>\n     </g>\n    </g>\n    <g id=\"ytick_3\">\n     <g id=\"line2d_13\">\n      <path d=\"M 30.103125 61.24632 \nL 225.403125 61.24632 \n\" clip-path=\"url(#pa10fbfde00)\" style=\"fill: none; stroke: #b0b0b0; stroke-width: 0.8; stroke-linecap: square\"/>\n     </g>\n     <g id=\"line2d_14\">\n      <g>\n       <use xlink:href=\"#m42fd838337\" x=\"30.103125\" y=\"61.24632\" style=\"stroke: #000000; stroke-width: 0.8\"/>\n      </g>\n     </g>\n     <g id=\"text_8\">\n      <!-- 1.5 -->\n      <g transform=\"translate(7.2 65.045539) scale(0.1 -0.1)\">\n       <use xlink:href=\"#DejaVuSans-31\"/>\n       <use xlink:href=\"#DejaVuSans-2e\" x=\"63.623047\"/>\n       <use xlink:href=\"#DejaVuSans-35\" x=\"95.410156\"/>\n      </g>\n     </g>\n    </g>\n    <g id=\"ytick_4\">\n     <g id=\"line2d_15\">\n      <path d=\"M 30.103125 32.660501 \nL 225.403125 32.660501 \n\" clip-path=\"url(#pa10fbfde00)\" style=\"fill: none; stroke: #b0b0b0; stroke-width: 0.8; stroke-linecap: square\"/>\n     </g>\n     <g id=\"line2d_16\">\n      <g>\n       <use xlink:href=\"#m42fd838337\" x=\"30.103125\" y=\"32.660501\" style=\"stroke: #000000; stroke-width: 0.8\"/>\n      </g>\n     </g>\n     <g id=\"text_9\">\n      <!-- 2.0 -->\n      <g transform=\"translate(7.2 36.45972) scale(0.1 -0.1)\">\n       <use xlink:href=\"#DejaVuSans-32\"/>\n       <use xlink:href=\"#DejaVuSans-2e\" x=\"63.623047\"/>\n       <use xlink:href=\"#DejaVuSans-30\" x=\"95.410156\"/>\n      </g>\n     </g>\n    </g>\n   </g>\n   <g id=\"line2d_17\">\n    <path d=\"M 21.659704 14.295772 \nL 23.49523 13.5 \nL 25.330757 13.897865 \nL 27.166283 16.411673 \nL 29.001809 18.532396 \nL 30.103125 19.007411 \nL 31.938651 32.942515 \nL 33.774178 33.852687 \nL 35.609704 32.66891 \nL 37.44523 33.794169 \nL 39.280757 33.836469 \nL 40.382072 32.950719 \nL 42.217599 40.110536 \nL 44.053125 44.364881 \nL 45.888651 43.499143 \nL 47.724178 43.970493 \nL 49.559704 42.592835 \nL 50.66102 40.5991 \nL 52.496546 46.556238 \nL 54.332072 43.411865 \nL 56.167599 46.522788 \nL 58.003125 48.820879 \nL 59.838651 48.6146 \nL 60.939967 47.240806 \nL 62.775493 52.450347 \nL 64.61102 49.637933 \nL 66.446546 50.202676 \nL 68.282072 50.985351 \nL 70.117599 50.41333 \nL 71.218914 51.724887 \nL 73.054441 58.97158 \nL 74.889967 61.876484 \nL 76.725493 58.635841 \nL 78.56102 55.708342 \nL 80.396546 55.854717 \nL 81.497862 54.908129 \nL 83.333388 63.046167 \nL 85.168914 61.654684 \nL 87.004441 61.955202 \nL 88.839967 63.073481 \nL 90.675493 63.426317 \nL 91.776809 62.056947 \nL 93.612336 64.918807 \nL 95.447862 66.29433 \nL 97.283388 64.975696 \nL 99.118914 64.432782 \nL 100.954441 63.019371 \nL 102.055757 63.154582 \nL 103.891283 74.72284 \nL 105.726809 70.350807 \nL 107.562336 70.234958 \nL 109.397862 70.952598 \nL 111.233388 71.270089 \nL 112.334704 69.289978 \nL 114.17023 78.937825 \nL 116.005757 75.494891 \nL 117.841283 75.276216 \nL 119.676809 72.885449 \nL 121.512336 72.867386 \nL 122.613651 72.611367 \nL 124.449178 79.578065 \nL 126.284704 80.711716 \nL 128.12023 79.506423 \nL 129.955757 79.764585 \nL 131.791283 78.312779 \nL 132.892599 78.427828 \nL 134.728125 86.476004 \nL 136.563651 85.864742 \nL 138.399178 84.632518 \nL 140.234704 83.256287 \nL 142.07023 81.860207 \nL 143.171546 82.830387 \nL 145.007072 83.92066 \nL 146.842599 83.906363 \nL 148.678125 88.007995 \nL 150.513651 86.596967 \nL 152.349178 85.203815 \nL 153.450493 85.519613 \nL 155.28602 91.867237 \nL 157.121546 93.484622 \nL 158.957072 93.528091 \nL 160.792599 93.064629 \nL 162.628125 92.766267 \nL 163.729441 92.728908 \nL 165.564967 109.398703 \nL 167.400493 100.99504 \nL 169.23602 100.70327 \nL 171.071546 97.026484 \nL 172.907072 96.866137 \nL 174.008388 96.907044 \nL 175.843914 98.356204 \nL 177.679441 96.505227 \nL 179.514967 93.245526 \nL 181.350493 93.924961 \nL 183.18602 93.644824 \nL 184.287336 93.326621 \nL 186.122862 105.850789 \nL 187.958388 107.883598 \nL 189.793914 106.83002 \nL 191.629441 106.524477 \nL 193.464967 104.223331 \nL 194.566283 103.195705 \nL 196.401809 108.888756 \nL 198.237336 112.684283 \nL 200.072862 109.400206 \nL 201.908388 107.604652 \nL 203.743914 108.202302 \nL 204.84523 107.264757 \nL 206.680757 104.268906 \nL 208.516283 109.181124 \nL 210.351809 110.584874 \nL 212.187336 108.532092 \nL 214.022862 108.137875 \nL 215.124178 108.108518 \nL 216.959704 112.171852 \nL 218.79523 112.480822 \nL 220.630757 112.721891 \nL 222.466283 111.097064 \nL 224.301809 110.229822 \nL 225.403125 110.34066 \n\" clip-path=\"url(#pa10fbfde00)\" style=\"fill: none; stroke: #1f77b4; stroke-width: 1.5; stroke-linecap: square\"/>\n   </g>\n   <g id=\"line2d_18\">\n    <path d=\"M 21.659704 139.5 \nL 23.49523 138.070709 \nL 25.330757 137.475171 \nL 27.166283 136.820079 \nL 29.001809 136.069702 \nL 30.103125 136.220288 \nL 31.938651 131.996222 \nL 33.774178 130.924254 \nL 35.609704 130.805147 \nL 37.44523 130.834924 \nL 39.280757 130.85279 \nL 40.382072 131.498523 \nL 42.217599 125.20709 \nL 44.053125 125.385752 \nL 45.888651 126.279059 \nL 47.724178 126.100397 \nL 49.559704 126.636381 \nL 50.66102 127.351027 \nL 52.496546 127.351027 \nL 54.332072 128.958979 \nL 56.167599 127.946565 \nL 58.003125 126.815043 \nL 59.838651 127.065169 \nL 60.939967 127.031989 \nL 62.775493 126.636381 \nL 64.61102 127.887011 \nL 66.446546 127.231919 \nL 68.282072 127.172365 \nL 70.117599 126.92224 \nL 71.218914 126.074874 \nL 73.054441 123.420477 \nL 74.889967 121.991186 \nL 76.725493 122.944046 \nL 78.56102 124.045792 \nL 80.396546 123.849264 \nL 81.497862 124.03303 \nL 83.333388 120.204572 \nL 85.168914 121.633863 \nL 87.004441 121.752971 \nL 88.839967 121.097879 \nL 90.675493 120.847753 \nL 91.776809 121.161687 \nL 93.612336 120.919218 \nL 95.447862 119.132604 \nL 97.283388 120.204572 \nL 99.118914 120.383233 \nL 100.954441 120.776288 \nL 102.055757 120.778841 \nL 103.891283 116.274022 \nL 105.726809 118.775281 \nL 107.562336 117.703313 \nL 109.397862 116.988667 \nL 111.233388 116.702809 \nL 112.334704 117.524652 \nL 114.17023 114.130086 \nL 116.005757 114.487408 \nL 117.841283 115.321161 \nL 119.676809 116.095361 \nL 121.512336 116.416951 \nL 122.613651 116.439922 \nL 124.449178 113.41544 \nL 126.284704 113.058117 \nL 128.12023 114.130086 \nL 129.955757 113.594101 \nL 131.791283 114.844731 \nL 132.892599 114.717116 \nL 134.728125 111.271504 \nL 136.563651 111.271504 \nL 138.399178 112.462579 \nL 140.234704 112.879456 \nL 142.07023 113.201046 \nL 143.171546 112.739079 \nL 145.007072 111.628826 \nL 146.842599 112.343472 \nL 148.678125 110.795073 \nL 150.513651 111.271504 \nL 152.349178 112.486401 \nL 153.450493 112.292426 \nL 155.28602 108.412922 \nL 157.121546 109.306229 \nL 158.957072 108.651137 \nL 160.792599 109.127567 \nL 162.628125 109.556354 \nL 163.729441 109.676313 \nL 165.564967 102.695758 \nL 167.400493 105.733001 \nL 169.23602 106.388093 \nL 171.071546 107.340953 \nL 172.907072 107.483883 \nL 174.008388 107.443046 \nL 175.843914 107.698276 \nL 177.679441 107.519615 \nL 179.514967 108.532029 \nL 181.350493 108.502252 \nL 183.18602 108.69878 \nL 184.287336 108.974429 \nL 186.122862 105.55434 \nL 187.958388 104.125049 \nL 189.793914 104.005941 \nL 191.629441 103.857057 \nL 193.464967 104.482372 \nL 194.566283 104.63551 \nL 196.401809 103.767726 \nL 198.237336 101.62379 \nL 200.072862 103.886834 \nL 201.908388 104.750364 \nL 203.743914 104.482372 \nL 204.84523 104.571702 \nL 206.680757 104.839694 \nL 208.516283 103.053081 \nL 210.351809 102.933973 \nL 212.187336 103.231742 \nL 214.022862 103.124545 \nL 215.124178 103.29555 \nL 216.959704 101.981112 \nL 218.79523 102.159774 \nL 220.630757 101.504682 \nL 222.466283 101.445128 \nL 224.301809 101.909648 \nL 225.403125 102.083205 \n\" clip-path=\"url(#pa10fbfde00)\" style=\"fill: none; stroke-dasharray: 5.55,2.4; stroke-dashoffset: 0; stroke: #bf00bf; stroke-width: 1.5\"/>\n   </g>\n   <g id=\"line2d_19\">\n    <path d=\"M 30.103125 134.497482 \nL 40.382072 136.284095 \nL 50.66102 130.030947 \nL 60.939967 124.671106 \nL 71.218914 134.497482 \nL 81.497862 126.45772 \nL 91.776809 128.244334 \nL 102.055757 124.671106 \nL 112.334704 123.777799 \nL 122.613651 125.564413 \nL 132.892599 126.45772 \nL 143.171546 121.991186 \nL 153.450493 127.351027 \nL 163.729441 127.351027 \nL 174.008388 130.030947 \nL 184.287336 126.45772 \nL 194.566283 121.991186 \nL 204.84523 128.244334 \nL 215.124178 121.991186 \nL 225.403125 120.204572 \n\" clip-path=\"url(#pa10fbfde00)\" style=\"fill: none; stroke-dasharray: 9.6,2.4,1.5,2.4; stroke-dashoffset: 0; stroke: #008000; stroke-width: 1.5\"/>\n   </g>\n   <g id=\"patch_3\">\n    <path d=\"M 30.103125 145.8 \nL 30.103125 7.2 \n\" style=\"fill: none; stroke: #000000; stroke-width: 0.8; stroke-linejoin: miter; stroke-linecap: square\"/>\n   </g>\n   <g id=\"patch_4\">\n    <path d=\"M 225.403125 145.8 \nL 225.403125 7.2 \n\" style=\"fill: none; stroke: #000000; stroke-width: 0.8; stroke-linejoin: miter; stroke-linecap: square\"/>\n   </g>\n   <g id=\"patch_5\">\n    <path d=\"M 30.103125 145.8 \nL 225.403125 145.8 \n\" style=\"fill: none; stroke: #000000; stroke-width: 0.8; stroke-linejoin: miter; stroke-linecap: square\"/>\n   </g>\n   <g id=\"patch_6\">\n    <path d=\"M 30.103125 7.2 \nL 225.403125 7.2 \n\" style=\"fill: none; stroke: #000000; stroke-width: 0.8; stroke-linejoin: miter; stroke-linecap: square\"/>\n   </g>\n   <g id=\"legend_1\">\n    <g id=\"patch_7\">\n     <path d=\"M 140.634375 59.234375 \nL 218.403125 59.234375 \nQ 220.403125 59.234375 220.403125 57.234375 \nL 220.403125 14.2 \nQ 220.403125 12.2 218.403125 12.2 \nL 140.634375 12.2 \nQ 138.634375 12.2 138.634375 14.2 \nL 138.634375 57.234375 \nQ 138.634375 59.234375 140.634375 59.234375 \nz\n\" style=\"fill: #ffffff; opacity: 0.8; stroke: #cccccc; stroke-linejoin: miter\"/>\n    </g>\n    <g id=\"line2d_20\">\n     <path d=\"M 142.634375 20.298438 \nL 152.634375 20.298438 \nL 162.634375 20.298438 \n\" style=\"fill: none; stroke: #1f77b4; stroke-width: 1.5; stroke-linecap: square\"/>\n    </g>\n    <g id=\"text_10\">\n     <!-- train loss -->\n     <g transform=\"translate(170.634375 23.798438) scale(0.1 -0.1)\">\n      <defs>\n       <path id=\"DejaVuSans-74\" d=\"M 1172 4494 \nL 1172 3500 \nL 2356 3500 \nL 2356 3053 \nL 1172 3053 \nL 1172 1153 \nQ 1172 725 1289 603 \nQ 1406 481 1766 481 \nL 2356 481 \nL 2356 0 \nL 1766 0 \nQ 1100 0 847 248 \nQ 594 497 594 1153 \nL 594 3053 \nL 172 3053 \nL 172 3500 \nL 594 3500 \nL 594 4494 \nL 1172 4494 \nz\n\" transform=\"scale(0.015625)\"/>\n       <path id=\"DejaVuSans-72\" d=\"M 2631 2963 \nQ 2534 3019 2420 3045 \nQ 2306 3072 2169 3072 \nQ 1681 3072 1420 2755 \nQ 1159 2438 1159 1844 \nL 1159 0 \nL 581 0 \nL 581 3500 \nL 1159 3500 \nL 1159 2956 \nQ 1341 3275 1631 3429 \nQ 1922 3584 2338 3584 \nQ 2397 3584 2469 3576 \nQ 2541 3569 2628 3553 \nL 2631 2963 \nz\n\" transform=\"scale(0.015625)\"/>\n       <path id=\"DejaVuSans-61\" d=\"M 2194 1759 \nQ 1497 1759 1228 1600 \nQ 959 1441 959 1056 \nQ 959 750 1161 570 \nQ 1363 391 1709 391 \nQ 2188 391 2477 730 \nQ 2766 1069 2766 1631 \nL 2766 1759 \nL 2194 1759 \nz\nM 3341 1997 \nL 3341 0 \nL 2766 0 \nL 2766 531 \nQ 2569 213 2275 61 \nQ 1981 -91 1556 -91 \nQ 1019 -91 701 211 \nQ 384 513 384 1019 \nQ 384 1609 779 1909 \nQ 1175 2209 1959 2209 \nL 2766 2209 \nL 2766 2266 \nQ 2766 2663 2505 2880 \nQ 2244 3097 1772 3097 \nQ 1472 3097 1187 3025 \nQ 903 2953 641 2809 \nL 641 3341 \nQ 956 3463 1253 3523 \nQ 1550 3584 1831 3584 \nQ 2591 3584 2966 3190 \nQ 3341 2797 3341 1997 \nz\n\" transform=\"scale(0.015625)\"/>\n       <path id=\"DejaVuSans-69\" d=\"M 603 3500 \nL 1178 3500 \nL 1178 0 \nL 603 0 \nL 603 3500 \nz\nM 603 4863 \nL 1178 4863 \nL 1178 4134 \nL 603 4134 \nL 603 4863 \nz\n\" transform=\"scale(0.015625)\"/>\n       <path id=\"DejaVuSans-6e\" d=\"M 3513 2113 \nL 3513 0 \nL 2938 0 \nL 2938 2094 \nQ 2938 2591 2744 2837 \nQ 2550 3084 2163 3084 \nQ 1697 3084 1428 2787 \nQ 1159 2491 1159 1978 \nL 1159 0 \nL 581 0 \nL 581 3500 \nL 1159 3500 \nL 1159 2956 \nQ 1366 3272 1645 3428 \nQ 1925 3584 2291 3584 \nQ 2894 3584 3203 3211 \nQ 3513 2838 3513 2113 \nz\n\" transform=\"scale(0.015625)\"/>\n       <path id=\"DejaVuSans-20\" transform=\"scale(0.015625)\"/>\n       <path id=\"DejaVuSans-6c\" d=\"M 603 4863 \nL 1178 4863 \nL 1178 0 \nL 603 0 \nL 603 4863 \nz\n\" transform=\"scale(0.015625)\"/>\n       <path id=\"DejaVuSans-73\" d=\"M 2834 3397 \nL 2834 2853 \nQ 2591 2978 2328 3040 \nQ 2066 3103 1784 3103 \nQ 1356 3103 1142 2972 \nQ 928 2841 928 2578 \nQ 928 2378 1081 2264 \nQ 1234 2150 1697 2047 \nL 1894 2003 \nQ 2506 1872 2764 1633 \nQ 3022 1394 3022 966 \nQ 3022 478 2636 193 \nQ 2250 -91 1575 -91 \nQ 1294 -91 989 -36 \nQ 684 19 347 128 \nL 347 722 \nQ 666 556 975 473 \nQ 1284 391 1588 391 \nQ 1994 391 2212 530 \nQ 2431 669 2431 922 \nQ 2431 1156 2273 1281 \nQ 2116 1406 1581 1522 \nL 1381 1569 \nQ 847 1681 609 1914 \nQ 372 2147 372 2553 \nQ 372 3047 722 3315 \nQ 1072 3584 1716 3584 \nQ 2034 3584 2315 3537 \nQ 2597 3491 2834 3397 \nz\n\" transform=\"scale(0.015625)\"/>\n      </defs>\n      <use xlink:href=\"#DejaVuSans-74\"/>\n      <use xlink:href=\"#DejaVuSans-72\" x=\"39.208984\"/>\n      <use xlink:href=\"#DejaVuSans-61\" x=\"80.322266\"/>\n      <use xlink:href=\"#DejaVuSans-69\" x=\"141.601562\"/>\n      <use xlink:href=\"#DejaVuSans-6e\" x=\"169.384766\"/>\n      <use xlink:href=\"#DejaVuSans-20\" x=\"232.763672\"/>\n      <use xlink:href=\"#DejaVuSans-6c\" x=\"264.550781\"/>\n      <use xlink:href=\"#DejaVuSans-6f\" x=\"292.333984\"/>\n      <use xlink:href=\"#DejaVuSans-73\" x=\"353.515625\"/>\n      <use xlink:href=\"#DejaVuSans-73\" x=\"405.615234\"/>\n     </g>\n    </g>\n    <g id=\"line2d_21\">\n     <path d=\"M 142.634375 34.976563 \nL 152.634375 34.976563 \nL 162.634375 34.976563 \n\" style=\"fill: none; stroke-dasharray: 5.55,2.4; stroke-dashoffset: 0; stroke: #bf00bf; stroke-width: 1.5\"/>\n    </g>\n    <g id=\"text_11\">\n     <!-- train acc -->\n     <g transform=\"translate(170.634375 38.476563) scale(0.1 -0.1)\">\n      <use xlink:href=\"#DejaVuSans-74\"/>\n      <use xlink:href=\"#DejaVuSans-72\" x=\"39.208984\"/>\n      <use xlink:href=\"#DejaVuSans-61\" x=\"80.322266\"/>\n      <use xlink:href=\"#DejaVuSans-69\" x=\"141.601562\"/>\n      <use xlink:href=\"#DejaVuSans-6e\" x=\"169.384766\"/>\n      <use xlink:href=\"#DejaVuSans-20\" x=\"232.763672\"/>\n      <use xlink:href=\"#DejaVuSans-61\" x=\"264.550781\"/>\n      <use xlink:href=\"#DejaVuSans-63\" x=\"325.830078\"/>\n      <use xlink:href=\"#DejaVuSans-63\" x=\"380.810547\"/>\n     </g>\n    </g>\n    <g id=\"line2d_22\">\n     <path d=\"M 142.634375 49.654688 \nL 152.634375 49.654688 \nL 162.634375 49.654688 \n\" style=\"fill: none; stroke-dasharray: 9.6,2.4,1.5,2.4; stroke-dashoffset: 0; stroke: #008000; stroke-width: 1.5\"/>\n    </g>\n    <g id=\"text_12\">\n     <!-- valid acc -->\n     <g transform=\"translate(170.634375 53.154688) scale(0.1 -0.1)\">\n      <defs>\n       <path id=\"DejaVuSans-76\" d=\"M 191 3500 \nL 800 3500 \nL 1894 563 \nL 2988 3500 \nL 3597 3500 \nL 2284 0 \nL 1503 0 \nL 191 3500 \nz\n\" transform=\"scale(0.015625)\"/>\n       <path id=\"DejaVuSans-64\" d=\"M 2906 2969 \nL 2906 4863 \nL 3481 4863 \nL 3481 0 \nL 2906 0 \nL 2906 525 \nQ 2725 213 2448 61 \nQ 2172 -91 1784 -91 \nQ 1150 -91 751 415 \nQ 353 922 353 1747 \nQ 353 2572 751 3078 \nQ 1150 3584 1784 3584 \nQ 2172 3584 2448 3432 \nQ 2725 3281 2906 2969 \nz\nM 947 1747 \nQ 947 1113 1208 752 \nQ 1469 391 1925 391 \nQ 2381 391 2643 752 \nQ 2906 1113 2906 1747 \nQ 2906 2381 2643 2742 \nQ 2381 3103 1925 3103 \nQ 1469 3103 1208 2742 \nQ 947 2381 947 1747 \nz\n\" transform=\"scale(0.015625)\"/>\n      </defs>\n      <use xlink:href=\"#DejaVuSans-76\"/>\n      <use xlink:href=\"#DejaVuSans-61\" x=\"59.179688\"/>\n      <use xlink:href=\"#DejaVuSans-6c\" x=\"120.458984\"/>\n      <use xlink:href=\"#DejaVuSans-69\" x=\"148.242188\"/>\n      <use xlink:href=\"#DejaVuSans-64\" x=\"176.025391\"/>\n      <use xlink:href=\"#DejaVuSans-20\" x=\"239.501953\"/>\n      <use xlink:href=\"#DejaVuSans-61\" x=\"271.289062\"/>\n      <use xlink:href=\"#DejaVuSans-63\" x=\"332.568359\"/>\n      <use xlink:href=\"#DejaVuSans-63\" x=\"387.548828\"/>\n     </g>\n    </g>\n   </g>\n  </g>\n </g>\n <defs>\n  <clipPath id=\"pa10fbfde00\">\n   <rect x=\"30.103125\" y=\"7.2\" width=\"195.3\" height=\"138.6\"/>\n  </clipPath>\n </defs>\n</svg>\n"
          },
          "metadata": {}
        }
      ],
      "source": [
        "devices, num_epochs, lr, wd = d2l.try_all_gpus(), 20, 2e-4, 5e-4\n",
        "lr_period, lr_decay, net = 4, 0.9, get_net()\n",
        "net(next(iter(train_iter))[0])\n",
        "train(net, train_iter, valid_iter, num_epochs, lr, wd, devices, lr_period,\n",
        "      lr_decay)"
      ]
    },
    {
      "cell_type": "markdown",
      "id": "bd51eac4",
      "metadata": {
        "origin_pos": 42,
        "id": "bd51eac4"
      },
      "source": [
        "## [**Classifying the Testing Set**] and Submitting Results on Kaggle\n",
        "\n",
        "After obtaining a promising model with hyperparameters,\n",
        "we use all the labeled data (including the validation set) to retrain the model and classify the testing set.\n"
      ]
    },
    {
      "cell_type": "code",
      "execution_count": 20,
      "id": "a66ef205",
      "metadata": {
        "execution": {
          "iopub.execute_input": "2023-08-18T19:30:37.501313Z",
          "iopub.status.busy": "2023-08-18T19:30:37.500748Z",
          "iopub.status.idle": "2023-08-18T19:31:40.934103Z",
          "shell.execute_reply": "2023-08-18T19:31:40.932837Z"
        },
        "origin_pos": 44,
        "tab": [
          "pytorch"
        ],
        "id": "a66ef205",
        "outputId": "7721554e-c740-40e9-83c9-6cbb9bb07193",
        "colab": {
          "base_uri": "https://localhost:8080/",
          "height": 300
        }
      },
      "outputs": [
        {
          "output_type": "stream",
          "name": "stdout",
          "text": [
            "train loss 0.618, train acc 0.781\n",
            "1058.9 examples/sec on [device(type='cuda', index=0)]\n"
          ]
        },
        {
          "output_type": "display_data",
          "data": {
            "text/plain": [
              "<Figure size 350x250 with 1 Axes>"
            ],
            "image/svg+xml": "<?xml version=\"1.0\" encoding=\"utf-8\" standalone=\"no\"?>\n<!DOCTYPE svg PUBLIC \"-//W3C//DTD SVG 1.1//EN\"\n  \"http://www.w3.org/Graphics/SVG/1.1/DTD/svg11.dtd\">\n<svg xmlns:xlink=\"http://www.w3.org/1999/xlink\" width=\"238.965625pt\" height=\"183.35625pt\" viewBox=\"0 0 238.965625 183.35625\" xmlns=\"http://www.w3.org/2000/svg\" version=\"1.1\">\n <metadata>\n  <rdf:RDF xmlns:dc=\"http://purl.org/dc/elements/1.1/\" xmlns:cc=\"http://creativecommons.org/ns#\" xmlns:rdf=\"http://www.w3.org/1999/02/22-rdf-syntax-ns#\">\n   <cc:Work>\n    <dc:type rdf:resource=\"http://purl.org/dc/dcmitype/StillImage\"/>\n    <dc:date>2023-11-17T10:51:13.246940</dc:date>\n    <dc:format>image/svg+xml</dc:format>\n    <dc:creator>\n     <cc:Agent>\n      <dc:title>Matplotlib v3.7.1, https://matplotlib.org/</dc:title>\n     </cc:Agent>\n    </dc:creator>\n   </cc:Work>\n  </rdf:RDF>\n </metadata>\n <defs>\n  <style type=\"text/css\">*{stroke-linejoin: round; stroke-linecap: butt}</style>\n </defs>\n <g id=\"figure_1\">\n  <g id=\"patch_1\">\n   <path d=\"M 0 183.35625 \nL 238.965625 183.35625 \nL 238.965625 0 \nL 0 0 \nz\n\" style=\"fill: #ffffff\"/>\n  </g>\n  <g id=\"axes_1\">\n   <g id=\"patch_2\">\n    <path d=\"M 30.103125 145.8 \nL 225.403125 145.8 \nL 225.403125 7.2 \nL 30.103125 7.2 \nz\n\" style=\"fill: #ffffff\"/>\n   </g>\n   <g id=\"matplotlib.axis_1\">\n    <g id=\"xtick_1\">\n     <g id=\"line2d_1\">\n      <path d=\"M 71.218914 145.8 \nL 71.218914 7.2 \n\" clip-path=\"url(#pb48a0c7cf6)\" style=\"fill: none; stroke: #b0b0b0; stroke-width: 0.8; stroke-linecap: square\"/>\n     </g>\n     <g id=\"line2d_2\">\n      <defs>\n       <path id=\"m29605e7cd9\" d=\"M 0 0 \nL 0 3.5 \n\" style=\"stroke: #000000; stroke-width: 0.8\"/>\n      </defs>\n      <g>\n       <use xlink:href=\"#m29605e7cd9\" x=\"71.218914\" y=\"145.8\" style=\"stroke: #000000; stroke-width: 0.8\"/>\n      </g>\n     </g>\n     <g id=\"text_1\">\n      <!-- 5 -->\n      <g transform=\"translate(68.037664 160.398438) scale(0.1 -0.1)\">\n       <defs>\n        <path id=\"DejaVuSans-35\" d=\"M 691 4666 \nL 3169 4666 \nL 3169 4134 \nL 1269 4134 \nL 1269 2991 \nQ 1406 3038 1543 3061 \nQ 1681 3084 1819 3084 \nQ 2600 3084 3056 2656 \nQ 3513 2228 3513 1497 \nQ 3513 744 3044 326 \nQ 2575 -91 1722 -91 \nQ 1428 -91 1123 -41 \nQ 819 9 494 109 \nL 494 744 \nQ 775 591 1075 516 \nQ 1375 441 1709 441 \nQ 2250 441 2565 725 \nQ 2881 1009 2881 1497 \nQ 2881 1984 2565 2268 \nQ 2250 2553 1709 2553 \nQ 1456 2553 1204 2497 \nQ 953 2441 691 2322 \nL 691 4666 \nz\n\" transform=\"scale(0.015625)\"/>\n       </defs>\n       <use xlink:href=\"#DejaVuSans-35\"/>\n      </g>\n     </g>\n    </g>\n    <g id=\"xtick_2\">\n     <g id=\"line2d_3\">\n      <path d=\"M 122.613651 145.8 \nL 122.613651 7.2 \n\" clip-path=\"url(#pb48a0c7cf6)\" style=\"fill: none; stroke: #b0b0b0; stroke-width: 0.8; stroke-linecap: square\"/>\n     </g>\n     <g id=\"line2d_4\">\n      <g>\n       <use xlink:href=\"#m29605e7cd9\" x=\"122.613651\" y=\"145.8\" style=\"stroke: #000000; stroke-width: 0.8\"/>\n      </g>\n     </g>\n     <g id=\"text_2\">\n      <!-- 10 -->\n      <g transform=\"translate(116.251151 160.398438) scale(0.1 -0.1)\">\n       <defs>\n        <path id=\"DejaVuSans-31\" d=\"M 794 531 \nL 1825 531 \nL 1825 4091 \nL 703 3866 \nL 703 4441 \nL 1819 4666 \nL 2450 4666 \nL 2450 531 \nL 3481 531 \nL 3481 0 \nL 794 0 \nL 794 531 \nz\n\" transform=\"scale(0.015625)\"/>\n        <path id=\"DejaVuSans-30\" d=\"M 2034 4250 \nQ 1547 4250 1301 3770 \nQ 1056 3291 1056 2328 \nQ 1056 1369 1301 889 \nQ 1547 409 2034 409 \nQ 2525 409 2770 889 \nQ 3016 1369 3016 2328 \nQ 3016 3291 2770 3770 \nQ 2525 4250 2034 4250 \nz\nM 2034 4750 \nQ 2819 4750 3233 4129 \nQ 3647 3509 3647 2328 \nQ 3647 1150 3233 529 \nQ 2819 -91 2034 -91 \nQ 1250 -91 836 529 \nQ 422 1150 422 2328 \nQ 422 3509 836 4129 \nQ 1250 4750 2034 4750 \nz\n\" transform=\"scale(0.015625)\"/>\n       </defs>\n       <use xlink:href=\"#DejaVuSans-31\"/>\n       <use xlink:href=\"#DejaVuSans-30\" x=\"63.623047\"/>\n      </g>\n     </g>\n    </g>\n    <g id=\"xtick_3\">\n     <g id=\"line2d_5\">\n      <path d=\"M 174.008388 145.8 \nL 174.008388 7.2 \n\" clip-path=\"url(#pb48a0c7cf6)\" style=\"fill: none; stroke: #b0b0b0; stroke-width: 0.8; stroke-linecap: square\"/>\n     </g>\n     <g id=\"line2d_6\">\n      <g>\n       <use xlink:href=\"#m29605e7cd9\" x=\"174.008388\" y=\"145.8\" style=\"stroke: #000000; stroke-width: 0.8\"/>\n      </g>\n     </g>\n     <g id=\"text_3\">\n      <!-- 15 -->\n      <g transform=\"translate(167.645888 160.398438) scale(0.1 -0.1)\">\n       <use xlink:href=\"#DejaVuSans-31\"/>\n       <use xlink:href=\"#DejaVuSans-35\" x=\"63.623047\"/>\n      </g>\n     </g>\n    </g>\n    <g id=\"xtick_4\">\n     <g id=\"line2d_7\">\n      <path d=\"M 225.403125 145.8 \nL 225.403125 7.2 \n\" clip-path=\"url(#pb48a0c7cf6)\" style=\"fill: none; stroke: #b0b0b0; stroke-width: 0.8; stroke-linecap: square\"/>\n     </g>\n     <g id=\"line2d_8\">\n      <g>\n       <use xlink:href=\"#m29605e7cd9\" x=\"225.403125\" y=\"145.8\" style=\"stroke: #000000; stroke-width: 0.8\"/>\n      </g>\n     </g>\n     <g id=\"text_4\">\n      <!-- 20 -->\n      <g transform=\"translate(219.040625 160.398438) scale(0.1 -0.1)\">\n       <defs>\n        <path id=\"DejaVuSans-32\" d=\"M 1228 531 \nL 3431 531 \nL 3431 0 \nL 469 0 \nL 469 531 \nQ 828 903 1448 1529 \nQ 2069 2156 2228 2338 \nQ 2531 2678 2651 2914 \nQ 2772 3150 2772 3378 \nQ 2772 3750 2511 3984 \nQ 2250 4219 1831 4219 \nQ 1534 4219 1204 4116 \nQ 875 4013 500 3803 \nL 500 4441 \nQ 881 4594 1212 4672 \nQ 1544 4750 1819 4750 \nQ 2544 4750 2975 4387 \nQ 3406 4025 3406 3419 \nQ 3406 3131 3298 2873 \nQ 3191 2616 2906 2266 \nQ 2828 2175 2409 1742 \nQ 1991 1309 1228 531 \nz\n\" transform=\"scale(0.015625)\"/>\n       </defs>\n       <use xlink:href=\"#DejaVuSans-32\"/>\n       <use xlink:href=\"#DejaVuSans-30\" x=\"63.623047\"/>\n      </g>\n     </g>\n    </g>\n    <g id=\"text_5\">\n     <!-- epoch -->\n     <g transform=\"translate(112.525 174.076563) scale(0.1 -0.1)\">\n      <defs>\n       <path id=\"DejaVuSans-65\" d=\"M 3597 1894 \nL 3597 1613 \nL 953 1613 \nQ 991 1019 1311 708 \nQ 1631 397 2203 397 \nQ 2534 397 2845 478 \nQ 3156 559 3463 722 \nL 3463 178 \nQ 3153 47 2828 -22 \nQ 2503 -91 2169 -91 \nQ 1331 -91 842 396 \nQ 353 884 353 1716 \nQ 353 2575 817 3079 \nQ 1281 3584 2069 3584 \nQ 2775 3584 3186 3129 \nQ 3597 2675 3597 1894 \nz\nM 3022 2063 \nQ 3016 2534 2758 2815 \nQ 2500 3097 2075 3097 \nQ 1594 3097 1305 2825 \nQ 1016 2553 972 2059 \nL 3022 2063 \nz\n\" transform=\"scale(0.015625)\"/>\n       <path id=\"DejaVuSans-70\" d=\"M 1159 525 \nL 1159 -1331 \nL 581 -1331 \nL 581 3500 \nL 1159 3500 \nL 1159 2969 \nQ 1341 3281 1617 3432 \nQ 1894 3584 2278 3584 \nQ 2916 3584 3314 3078 \nQ 3713 2572 3713 1747 \nQ 3713 922 3314 415 \nQ 2916 -91 2278 -91 \nQ 1894 -91 1617 61 \nQ 1341 213 1159 525 \nz\nM 3116 1747 \nQ 3116 2381 2855 2742 \nQ 2594 3103 2138 3103 \nQ 1681 3103 1420 2742 \nQ 1159 2381 1159 1747 \nQ 1159 1113 1420 752 \nQ 1681 391 2138 391 \nQ 2594 391 2855 752 \nQ 3116 1113 3116 1747 \nz\n\" transform=\"scale(0.015625)\"/>\n       <path id=\"DejaVuSans-6f\" d=\"M 1959 3097 \nQ 1497 3097 1228 2736 \nQ 959 2375 959 1747 \nQ 959 1119 1226 758 \nQ 1494 397 1959 397 \nQ 2419 397 2687 759 \nQ 2956 1122 2956 1747 \nQ 2956 2369 2687 2733 \nQ 2419 3097 1959 3097 \nz\nM 1959 3584 \nQ 2709 3584 3137 3096 \nQ 3566 2609 3566 1747 \nQ 3566 888 3137 398 \nQ 2709 -91 1959 -91 \nQ 1206 -91 779 398 \nQ 353 888 353 1747 \nQ 353 2609 779 3096 \nQ 1206 3584 1959 3584 \nz\n\" transform=\"scale(0.015625)\"/>\n       <path id=\"DejaVuSans-63\" d=\"M 3122 3366 \nL 3122 2828 \nQ 2878 2963 2633 3030 \nQ 2388 3097 2138 3097 \nQ 1578 3097 1268 2742 \nQ 959 2388 959 1747 \nQ 959 1106 1268 751 \nQ 1578 397 2138 397 \nQ 2388 397 2633 464 \nQ 2878 531 3122 666 \nL 3122 134 \nQ 2881 22 2623 -34 \nQ 2366 -91 2075 -91 \nQ 1284 -91 818 406 \nQ 353 903 353 1747 \nQ 353 2603 823 3093 \nQ 1294 3584 2113 3584 \nQ 2378 3584 2631 3529 \nQ 2884 3475 3122 3366 \nz\n\" transform=\"scale(0.015625)\"/>\n       <path id=\"DejaVuSans-68\" d=\"M 3513 2113 \nL 3513 0 \nL 2938 0 \nL 2938 2094 \nQ 2938 2591 2744 2837 \nQ 2550 3084 2163 3084 \nQ 1697 3084 1428 2787 \nQ 1159 2491 1159 1978 \nL 1159 0 \nL 581 0 \nL 581 4863 \nL 1159 4863 \nL 1159 2956 \nQ 1366 3272 1645 3428 \nQ 1925 3584 2291 3584 \nQ 2894 3584 3203 3211 \nQ 3513 2838 3513 2113 \nz\n\" transform=\"scale(0.015625)\"/>\n      </defs>\n      <use xlink:href=\"#DejaVuSans-65\"/>\n      <use xlink:href=\"#DejaVuSans-70\" x=\"61.523438\"/>\n      <use xlink:href=\"#DejaVuSans-6f\" x=\"125\"/>\n      <use xlink:href=\"#DejaVuSans-63\" x=\"186.181641\"/>\n      <use xlink:href=\"#DejaVuSans-68\" x=\"241.162109\"/>\n     </g>\n    </g>\n   </g>\n   <g id=\"matplotlib.axis_2\">\n    <g id=\"ytick_1\">\n     <g id=\"line2d_9\">\n      <path d=\"M 30.103125 144.872289 \nL 225.403125 144.872289 \n\" clip-path=\"url(#pb48a0c7cf6)\" style=\"fill: none; stroke: #b0b0b0; stroke-width: 0.8; stroke-linecap: square\"/>\n     </g>\n     <g id=\"line2d_10\">\n      <defs>\n       <path id=\"m1dd0077ffb\" d=\"M 0 0 \nL -3.5 0 \n\" style=\"stroke: #000000; stroke-width: 0.8\"/>\n      </defs>\n      <g>\n       <use xlink:href=\"#m1dd0077ffb\" x=\"30.103125\" y=\"144.872289\" style=\"stroke: #000000; stroke-width: 0.8\"/>\n      </g>\n     </g>\n     <g id=\"text_6\">\n      <!-- 0.0 -->\n      <g transform=\"translate(7.2 148.671507) scale(0.1 -0.1)\">\n       <defs>\n        <path id=\"DejaVuSans-2e\" d=\"M 684 794 \nL 1344 794 \nL 1344 0 \nL 684 0 \nL 684 794 \nz\n\" transform=\"scale(0.015625)\"/>\n       </defs>\n       <use xlink:href=\"#DejaVuSans-30\"/>\n       <use xlink:href=\"#DejaVuSans-2e\" x=\"63.623047\"/>\n       <use xlink:href=\"#DejaVuSans-30\" x=\"95.410156\"/>\n      </g>\n     </g>\n    </g>\n    <g id=\"ytick_2\">\n     <g id=\"line2d_11\">\n      <path d=\"M 30.103125 116.220083 \nL 225.403125 116.220083 \n\" clip-path=\"url(#pb48a0c7cf6)\" style=\"fill: none; stroke: #b0b0b0; stroke-width: 0.8; stroke-linecap: square\"/>\n     </g>\n     <g id=\"line2d_12\">\n      <g>\n       <use xlink:href=\"#m1dd0077ffb\" x=\"30.103125\" y=\"116.220083\" style=\"stroke: #000000; stroke-width: 0.8\"/>\n      </g>\n     </g>\n     <g id=\"text_7\">\n      <!-- 0.5 -->\n      <g transform=\"translate(7.2 120.019302) scale(0.1 -0.1)\">\n       <use xlink:href=\"#DejaVuSans-30\"/>\n       <use xlink:href=\"#DejaVuSans-2e\" x=\"63.623047\"/>\n       <use xlink:href=\"#DejaVuSans-35\" x=\"95.410156\"/>\n      </g>\n     </g>\n    </g>\n    <g id=\"ytick_3\">\n     <g id=\"line2d_13\">\n      <path d=\"M 30.103125 87.567877 \nL 225.403125 87.567877 \n\" clip-path=\"url(#pb48a0c7cf6)\" style=\"fill: none; stroke: #b0b0b0; stroke-width: 0.8; stroke-linecap: square\"/>\n     </g>\n     <g id=\"line2d_14\">\n      <g>\n       <use xlink:href=\"#m1dd0077ffb\" x=\"30.103125\" y=\"87.567877\" style=\"stroke: #000000; stroke-width: 0.8\"/>\n      </g>\n     </g>\n     <g id=\"text_8\">\n      <!-- 1.0 -->\n      <g transform=\"translate(7.2 91.367096) scale(0.1 -0.1)\">\n       <use xlink:href=\"#DejaVuSans-31\"/>\n       <use xlink:href=\"#DejaVuSans-2e\" x=\"63.623047\"/>\n       <use xlink:href=\"#DejaVuSans-30\" x=\"95.410156\"/>\n      </g>\n     </g>\n    </g>\n    <g id=\"ytick_4\">\n     <g id=\"line2d_15\">\n      <path d=\"M 30.103125 58.915671 \nL 225.403125 58.915671 \n\" clip-path=\"url(#pb48a0c7cf6)\" style=\"fill: none; stroke: #b0b0b0; stroke-width: 0.8; stroke-linecap: square\"/>\n     </g>\n     <g id=\"line2d_16\">\n      <g>\n       <use xlink:href=\"#m1dd0077ffb\" x=\"30.103125\" y=\"58.915671\" style=\"stroke: #000000; stroke-width: 0.8\"/>\n      </g>\n     </g>\n     <g id=\"text_9\">\n      <!-- 1.5 -->\n      <g transform=\"translate(7.2 62.71489) scale(0.1 -0.1)\">\n       <use xlink:href=\"#DejaVuSans-31\"/>\n       <use xlink:href=\"#DejaVuSans-2e\" x=\"63.623047\"/>\n       <use xlink:href=\"#DejaVuSans-35\" x=\"95.410156\"/>\n      </g>\n     </g>\n    </g>\n    <g id=\"ytick_5\">\n     <g id=\"line2d_17\">\n      <path d=\"M 30.103125 30.263466 \nL 225.403125 30.263466 \n\" clip-path=\"url(#pb48a0c7cf6)\" style=\"fill: none; stroke: #b0b0b0; stroke-width: 0.8; stroke-linecap: square\"/>\n     </g>\n     <g id=\"line2d_18\">\n      <g>\n       <use xlink:href=\"#m1dd0077ffb\" x=\"30.103125\" y=\"30.263466\" style=\"stroke: #000000; stroke-width: 0.8\"/>\n      </g>\n     </g>\n     <g id=\"text_10\">\n      <!-- 2.0 -->\n      <g transform=\"translate(7.2 34.062684) scale(0.1 -0.1)\">\n       <use xlink:href=\"#DejaVuSans-32\"/>\n       <use xlink:href=\"#DejaVuSans-2e\" x=\"63.623047\"/>\n       <use xlink:href=\"#DejaVuSans-30\" x=\"95.410156\"/>\n      </g>\n     </g>\n    </g>\n   </g>\n   <g id=\"line2d_19\">\n    <path d=\"M 21.813651 13.5 \nL 23.803125 15.570011 \nL 25.792599 16.67597 \nL 27.782072 17.837732 \nL 29.771546 17.879315 \nL 30.103125 18.4876 \nL 32.092599 39.274374 \nL 34.082072 39.252801 \nL 36.071546 38.769949 \nL 38.06102 37.370356 \nL 40.050493 35.003781 \nL 40.382072 34.176153 \nL 42.371546 33.121453 \nL 44.36102 34.020711 \nL 46.350493 36.977256 \nL 48.339967 38.317 \nL 50.329441 38.829668 \nL 50.66102 39.052836 \nL 52.650493 49.546551 \nL 54.639967 49.675544 \nL 56.629441 48.933435 \nL 58.618914 48.968294 \nL 60.608388 49.321684 \nL 60.939967 49.586442 \nL 62.929441 57.939795 \nL 64.918914 58.252562 \nL 66.908388 57.621315 \nL 68.897862 57.834434 \nL 70.887336 55.654502 \nL 71.218914 55.613787 \nL 73.208388 62.119953 \nL 75.197862 59.756069 \nL 77.187336 60.867559 \nL 79.176809 55.76854 \nL 81.166283 54.440043 \nL 81.497862 54.509716 \nL 83.487336 57.030328 \nL 85.476809 61.868324 \nL 87.466283 63.312136 \nL 89.455757 63.787334 \nL 91.44523 62.296542 \nL 91.776809 61.671264 \nL 93.766283 70.495545 \nL 95.755757 69.412847 \nL 97.74523 70.802353 \nL 99.734704 67.961831 \nL 101.724178 67.397021 \nL 102.055757 66.322811 \nL 104.04523 73.39072 \nL 106.034704 73.404764 \nL 108.024178 69.824228 \nL 110.013651 66.452636 \nL 112.003125 67.338124 \nL 112.334704 66.482003 \nL 114.324178 74.962029 \nL 116.313651 71.888306 \nL 118.303125 69.926503 \nL 120.292599 70.259653 \nL 122.282072 71.521065 \nL 122.613651 72.21678 \nL 124.603125 80.734403 \nL 126.592599 79.775725 \nL 128.582072 80.663021 \nL 130.571546 80.05836 \nL 132.56102 78.960452 \nL 132.892599 79.064809 \nL 134.882072 82.345094 \nL 136.871546 83.875164 \nL 138.86102 81.894261 \nL 140.850493 81.083338 \nL 142.839967 80.225296 \nL 143.171546 80.399703 \nL 145.16102 89.143848 \nL 147.150493 90.272478 \nL 149.139967 87.532646 \nL 151.129441 85.461136 \nL 153.118914 85.559922 \nL 153.450493 85.57533 \nL 155.439967 101.080121 \nL 157.429441 94.294563 \nL 159.418914 93.266691 \nL 161.408388 91.641655 \nL 163.397862 91.513879 \nL 163.729441 91.640371 \nL 165.718914 96.723511 \nL 167.708388 98.718637 \nL 169.697862 95.134036 \nL 171.687336 94.076083 \nL 173.676809 93.461697 \nL 174.008388 93.39667 \nL 175.997862 100.889073 \nL 177.987336 97.783813 \nL 179.976809 96.971286 \nL 181.966283 95.325104 \nL 183.955757 94.339412 \nL 184.287336 93.984405 \nL 186.276809 101.454912 \nL 188.266283 96.12782 \nL 190.255757 99.553805 \nL 192.24523 97.244872 \nL 194.234704 96.503187 \nL 194.566283 95.877756 \nL 196.555757 105.04888 \nL 198.54523 107.354294 \nL 200.534704 106.495223 \nL 202.524178 103.668401 \nL 204.513651 102.122894 \nL 204.84523 101.883483 \nL 206.834704 113.95657 \nL 208.824178 107.588235 \nL 210.813651 107.992821 \nL 212.803125 106.513944 \nL 214.792599 105.902842 \nL 215.124178 105.657627 \nL 217.113651 114.890511 \nL 219.103125 112.537528 \nL 221.092599 111.964523 \nL 223.082072 110.518885 \nL 225.071546 109.709451 \nL 225.403125 109.464398 \n\" clip-path=\"url(#pb48a0c7cf6)\" style=\"fill: none; stroke: #1f77b4; stroke-width: 1.5; stroke-linecap: square\"/>\n   </g>\n   <g id=\"line2d_20\">\n    <path d=\"M 21.813651 139.5 \nL 23.803125 136.515395 \nL 25.792599 135.222067 \nL 27.782072 134.426172 \nL 29.771546 134.36648 \nL 30.103125 134.301011 \nL 32.092599 127.561581 \nL 34.082072 128.755423 \nL 36.071546 128.655936 \nL 38.06102 128.307732 \nL 40.050493 129.053883 \nL 40.382072 129.102022 \nL 42.371546 127.561581 \nL 44.36102 126.6662 \nL 46.350493 125.571844 \nL 48.339967 125.397742 \nL 50.329441 125.293281 \nL 50.66102 125.173897 \nL 52.650493 122.786213 \nL 54.639967 121.443141 \nL 56.629441 121.990319 \nL 58.618914 122.189292 \nL 60.608388 122.368369 \nL 60.939967 122.227803 \nL 62.929441 120.39853 \nL 64.918914 120.84622 \nL 66.908388 120.69699 \nL 68.897862 119.950839 \nL 70.887336 120.458222 \nL 71.218914 120.437041 \nL 73.208388 118.309306 \nL 75.197862 119.353918 \nL 77.187336 118.110333 \nL 79.176809 119.577763 \nL 81.166283 119.980685 \nL 81.497862 120.090441 \nL 83.487336 121.293911 \nL 85.476809 119.353918 \nL 87.466283 119.005714 \nL 89.455757 118.085461 \nL 91.44523 118.249614 \nL 91.776809 118.357445 \nL 93.766283 114.42932 \nL 95.755757 114.42932 \nL 97.74523 114.329833 \nL 99.734704 114.877011 \nL 101.724178 115.503778 \nL 102.055757 115.989017 \nL 104.04523 111.743176 \nL 106.034704 113.235478 \nL 108.024178 114.827267 \nL 110.013651 115.772392 \nL 112.003125 115.86193 \nL 112.334704 115.989017 \nL 114.324178 113.533939 \nL 116.313651 113.832399 \nL 118.303125 114.926754 \nL 120.292599 114.877011 \nL 122.282072 114.548704 \nL 122.613651 114.198254 \nL 124.603125 110.250873 \nL 126.592599 110.847794 \nL 128.582072 109.952413 \nL 130.571546 110.997024 \nL 132.56102 111.743176 \nL 132.892599 111.656526 \nL 134.882072 110.250873 \nL 136.871546 110.250873 \nL 138.86102 110.947281 \nL 140.850493 111.817791 \nL 142.839967 111.504407 \nL 143.171546 111.367693 \nL 145.16102 109.355492 \nL 147.150493 107.863189 \nL 149.139967 108.758571 \nL 151.129441 109.430107 \nL 153.118914 109.534568 \nL 153.450493 109.75023 \nL 155.439967 103.087822 \nL 157.429441 106.221657 \nL 159.418914 106.868321 \nL 161.408388 107.564729 \nL 163.397862 107.146884 \nL 163.729441 107.150735 \nL 165.718914 103.684743 \nL 167.708388 102.789361 \nL 169.697862 105.276532 \nL 171.687336 105.699351 \nL 173.676809 106.370887 \nL 174.008388 106.457537 \nL 175.997862 103.087822 \nL 177.987336 104.729354 \nL 179.976809 105.077558 \nL 181.966283 105.400891 \nL 183.955757 105.953042 \nL 184.287336 105.995405 \nL 186.276809 106.072427 \nL 188.266283 105.923196 \nL 190.255757 103.983203 \nL 192.24523 104.505509 \nL 194.234704 105.057661 \nL 194.566283 105.302206 \nL 196.555757 100.401678 \nL 198.54523 98.909375 \nL 200.534704 99.904243 \nL 202.524178 101.147829 \nL 204.513651 102.013364 \nL 204.84523 102.125046 \nL 206.834704 97.417073 \nL 208.824178 100.103217 \nL 210.813651 100.302191 \nL 212.803125 100.923983 \nL 214.792599 101.177675 \nL 215.124178 101.316315 \nL 217.113651 98.610915 \nL 219.103125 98.610915 \nL 221.092599 98.411941 \nL 223.082072 99.580911 \nL 225.071546 99.983833 \nL 225.403125 100.103217 \n\" clip-path=\"url(#pb48a0c7cf6)\" style=\"fill: none; stroke-dasharray: 5.55,2.4; stroke-dashoffset: 0; stroke: #bf00bf; stroke-width: 1.5\"/>\n   </g>\n   <g id=\"line2d_21\"/>\n   <g id=\"patch_3\">\n    <path d=\"M 30.103125 145.8 \nL 30.103125 7.2 \n\" style=\"fill: none; stroke: #000000; stroke-width: 0.8; stroke-linejoin: miter; stroke-linecap: square\"/>\n   </g>\n   <g id=\"patch_4\">\n    <path d=\"M 225.403125 145.8 \nL 225.403125 7.2 \n\" style=\"fill: none; stroke: #000000; stroke-width: 0.8; stroke-linejoin: miter; stroke-linecap: square\"/>\n   </g>\n   <g id=\"patch_5\">\n    <path d=\"M 30.103125 145.8 \nL 225.403125 145.8 \n\" style=\"fill: none; stroke: #000000; stroke-width: 0.8; stroke-linejoin: miter; stroke-linecap: square\"/>\n   </g>\n   <g id=\"patch_6\">\n    <path d=\"M 30.103125 7.2 \nL 225.403125 7.2 \n\" style=\"fill: none; stroke: #000000; stroke-width: 0.8; stroke-linejoin: miter; stroke-linecap: square\"/>\n   </g>\n   <g id=\"legend_1\">\n    <g id=\"patch_7\">\n     <path d=\"M 140.634375 44.55625 \nL 218.403125 44.55625 \nQ 220.403125 44.55625 220.403125 42.55625 \nL 220.403125 14.2 \nQ 220.403125 12.2 218.403125 12.2 \nL 140.634375 12.2 \nQ 138.634375 12.2 138.634375 14.2 \nL 138.634375 42.55625 \nQ 138.634375 44.55625 140.634375 44.55625 \nz\n\" style=\"fill: #ffffff; opacity: 0.8; stroke: #cccccc; stroke-linejoin: miter\"/>\n    </g>\n    <g id=\"line2d_22\">\n     <path d=\"M 142.634375 20.298438 \nL 152.634375 20.298438 \nL 162.634375 20.298438 \n\" style=\"fill: none; stroke: #1f77b4; stroke-width: 1.5; stroke-linecap: square\"/>\n    </g>\n    <g id=\"text_11\">\n     <!-- train loss -->\n     <g transform=\"translate(170.634375 23.798438) scale(0.1 -0.1)\">\n      <defs>\n       <path id=\"DejaVuSans-74\" d=\"M 1172 4494 \nL 1172 3500 \nL 2356 3500 \nL 2356 3053 \nL 1172 3053 \nL 1172 1153 \nQ 1172 725 1289 603 \nQ 1406 481 1766 481 \nL 2356 481 \nL 2356 0 \nL 1766 0 \nQ 1100 0 847 248 \nQ 594 497 594 1153 \nL 594 3053 \nL 172 3053 \nL 172 3500 \nL 594 3500 \nL 594 4494 \nL 1172 4494 \nz\n\" transform=\"scale(0.015625)\"/>\n       <path id=\"DejaVuSans-72\" d=\"M 2631 2963 \nQ 2534 3019 2420 3045 \nQ 2306 3072 2169 3072 \nQ 1681 3072 1420 2755 \nQ 1159 2438 1159 1844 \nL 1159 0 \nL 581 0 \nL 581 3500 \nL 1159 3500 \nL 1159 2956 \nQ 1341 3275 1631 3429 \nQ 1922 3584 2338 3584 \nQ 2397 3584 2469 3576 \nQ 2541 3569 2628 3553 \nL 2631 2963 \nz\n\" transform=\"scale(0.015625)\"/>\n       <path id=\"DejaVuSans-61\" d=\"M 2194 1759 \nQ 1497 1759 1228 1600 \nQ 959 1441 959 1056 \nQ 959 750 1161 570 \nQ 1363 391 1709 391 \nQ 2188 391 2477 730 \nQ 2766 1069 2766 1631 \nL 2766 1759 \nL 2194 1759 \nz\nM 3341 1997 \nL 3341 0 \nL 2766 0 \nL 2766 531 \nQ 2569 213 2275 61 \nQ 1981 -91 1556 -91 \nQ 1019 -91 701 211 \nQ 384 513 384 1019 \nQ 384 1609 779 1909 \nQ 1175 2209 1959 2209 \nL 2766 2209 \nL 2766 2266 \nQ 2766 2663 2505 2880 \nQ 2244 3097 1772 3097 \nQ 1472 3097 1187 3025 \nQ 903 2953 641 2809 \nL 641 3341 \nQ 956 3463 1253 3523 \nQ 1550 3584 1831 3584 \nQ 2591 3584 2966 3190 \nQ 3341 2797 3341 1997 \nz\n\" transform=\"scale(0.015625)\"/>\n       <path id=\"DejaVuSans-69\" d=\"M 603 3500 \nL 1178 3500 \nL 1178 0 \nL 603 0 \nL 603 3500 \nz\nM 603 4863 \nL 1178 4863 \nL 1178 4134 \nL 603 4134 \nL 603 4863 \nz\n\" transform=\"scale(0.015625)\"/>\n       <path id=\"DejaVuSans-6e\" d=\"M 3513 2113 \nL 3513 0 \nL 2938 0 \nL 2938 2094 \nQ 2938 2591 2744 2837 \nQ 2550 3084 2163 3084 \nQ 1697 3084 1428 2787 \nQ 1159 2491 1159 1978 \nL 1159 0 \nL 581 0 \nL 581 3500 \nL 1159 3500 \nL 1159 2956 \nQ 1366 3272 1645 3428 \nQ 1925 3584 2291 3584 \nQ 2894 3584 3203 3211 \nQ 3513 2838 3513 2113 \nz\n\" transform=\"scale(0.015625)\"/>\n       <path id=\"DejaVuSans-20\" transform=\"scale(0.015625)\"/>\n       <path id=\"DejaVuSans-6c\" d=\"M 603 4863 \nL 1178 4863 \nL 1178 0 \nL 603 0 \nL 603 4863 \nz\n\" transform=\"scale(0.015625)\"/>\n       <path id=\"DejaVuSans-73\" d=\"M 2834 3397 \nL 2834 2853 \nQ 2591 2978 2328 3040 \nQ 2066 3103 1784 3103 \nQ 1356 3103 1142 2972 \nQ 928 2841 928 2578 \nQ 928 2378 1081 2264 \nQ 1234 2150 1697 2047 \nL 1894 2003 \nQ 2506 1872 2764 1633 \nQ 3022 1394 3022 966 \nQ 3022 478 2636 193 \nQ 2250 -91 1575 -91 \nQ 1294 -91 989 -36 \nQ 684 19 347 128 \nL 347 722 \nQ 666 556 975 473 \nQ 1284 391 1588 391 \nQ 1994 391 2212 530 \nQ 2431 669 2431 922 \nQ 2431 1156 2273 1281 \nQ 2116 1406 1581 1522 \nL 1381 1569 \nQ 847 1681 609 1914 \nQ 372 2147 372 2553 \nQ 372 3047 722 3315 \nQ 1072 3584 1716 3584 \nQ 2034 3584 2315 3537 \nQ 2597 3491 2834 3397 \nz\n\" transform=\"scale(0.015625)\"/>\n      </defs>\n      <use xlink:href=\"#DejaVuSans-74\"/>\n      <use xlink:href=\"#DejaVuSans-72\" x=\"39.208984\"/>\n      <use xlink:href=\"#DejaVuSans-61\" x=\"80.322266\"/>\n      <use xlink:href=\"#DejaVuSans-69\" x=\"141.601562\"/>\n      <use xlink:href=\"#DejaVuSans-6e\" x=\"169.384766\"/>\n      <use xlink:href=\"#DejaVuSans-20\" x=\"232.763672\"/>\n      <use xlink:href=\"#DejaVuSans-6c\" x=\"264.550781\"/>\n      <use xlink:href=\"#DejaVuSans-6f\" x=\"292.333984\"/>\n      <use xlink:href=\"#DejaVuSans-73\" x=\"353.515625\"/>\n      <use xlink:href=\"#DejaVuSans-73\" x=\"405.615234\"/>\n     </g>\n    </g>\n    <g id=\"line2d_23\">\n     <path d=\"M 142.634375 34.976562 \nL 152.634375 34.976562 \nL 162.634375 34.976562 \n\" style=\"fill: none; stroke-dasharray: 5.55,2.4; stroke-dashoffset: 0; stroke: #bf00bf; stroke-width: 1.5\"/>\n    </g>\n    <g id=\"text_12\">\n     <!-- train acc -->\n     <g transform=\"translate(170.634375 38.476562) scale(0.1 -0.1)\">\n      <use xlink:href=\"#DejaVuSans-74\"/>\n      <use xlink:href=\"#DejaVuSans-72\" x=\"39.208984\"/>\n      <use xlink:href=\"#DejaVuSans-61\" x=\"80.322266\"/>\n      <use xlink:href=\"#DejaVuSans-69\" x=\"141.601562\"/>\n      <use xlink:href=\"#DejaVuSans-6e\" x=\"169.384766\"/>\n      <use xlink:href=\"#DejaVuSans-20\" x=\"232.763672\"/>\n      <use xlink:href=\"#DejaVuSans-61\" x=\"264.550781\"/>\n      <use xlink:href=\"#DejaVuSans-63\" x=\"325.830078\"/>\n      <use xlink:href=\"#DejaVuSans-63\" x=\"380.810547\"/>\n     </g>\n    </g>\n   </g>\n  </g>\n </g>\n <defs>\n  <clipPath id=\"pb48a0c7cf6\">\n   <rect x=\"30.103125\" y=\"7.2\" width=\"195.3\" height=\"138.6\"/>\n  </clipPath>\n </defs>\n</svg>\n"
          },
          "metadata": {}
        }
      ],
      "source": [
        "net, preds = get_net(), []\n",
        "net(next(iter(train_valid_iter))[0])\n",
        "train(net, train_valid_iter, None, num_epochs, lr, wd, devices, lr_period,\n",
        "      lr_decay)\n",
        "\n",
        "for X, _ in test_iter:\n",
        "    y_hat = net(X.to(devices[0]))\n",
        "    preds.extend(y_hat.argmax(dim=1).type(torch.int32).cpu().numpy())\n",
        "sorted_ids = list(range(1, len(test_ds) + 1))\n",
        "sorted_ids.sort(key=lambda x: str(x))\n",
        "df = pd.DataFrame({'id': sorted_ids, 'label': preds})\n",
        "df['label'] = df['label'].apply(lambda x: train_valid_ds.classes[x])\n",
        "df.to_csv('submission.csv', index=False)"
      ]
    },
    {
      "cell_type": "markdown",
      "id": "0a33f6c7",
      "metadata": {
        "origin_pos": 45,
        "id": "0a33f6c7"
      },
      "source": [
        "The above code\n",
        "will generate a `submission.csv` file,\n",
        "whose format\n",
        "meets the requirement of the Kaggle competition.\n",
        "The method\n",
        "for submitting results to Kaggle\n",
        "is similar to that in :numref:`sec_kaggle_house`.\n",
        "\n",
        "## Summary\n",
        "\n",
        "* We can read datasets containing raw image files after organizing them into the required format.\n"
      ]
    },
    {
      "cell_type": "markdown",
      "id": "fe9ddf70",
      "metadata": {
        "origin_pos": 47,
        "tab": [
          "pytorch"
        ],
        "id": "fe9ddf70"
      },
      "source": [
        "* We can use convolutional neural networks and image augmentation in an image classification competition.\n"
      ]
    },
    {
      "cell_type": "markdown",
      "id": "ed9f69e2",
      "metadata": {
        "origin_pos": 48,
        "id": "ed9f69e2"
      },
      "source": [
        "## Exercises\n",
        "\n",
        "1. Use the complete CIFAR-10 dataset for this Kaggle competition. Set hyperparameters as `batch_size = 128`, `num_epochs = 100`, `lr = 0.1`, `lr_period = 50`, and `lr_decay = 0.1`.  See what accuracy and ranking you can achieve in this competition. Can you further improve them?\n",
        "1. What accuracy can you get when not using image augmentation?\n"
      ]
    },
    {
      "cell_type": "markdown",
      "id": "74fe0ee3",
      "metadata": {
        "origin_pos": 50,
        "tab": [
          "pytorch"
        ],
        "id": "74fe0ee3"
      },
      "source": [
        "[Discussions](https://discuss.d2l.ai/t/1479)\n"
      ]
    }
  ],
  "metadata": {
    "accelerator": "GPU",
    "kernelspec": {
      "display_name": "Python 3",
      "name": "python3"
    },
    "language_info": {
      "name": "python"
    },
    "required_libs": [],
    "colab": {
      "provenance": [],
      "include_colab_link": true
    }
  },
  "nbformat": 4,
  "nbformat_minor": 5
}