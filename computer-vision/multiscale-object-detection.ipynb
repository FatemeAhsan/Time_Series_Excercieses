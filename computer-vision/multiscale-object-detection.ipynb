{
  "cells": [
    {
      "cell_type": "markdown",
      "source": [
        "<a href=\"https://colab.research.google.com/github/FatemehAhsan/AI_Practices/blob/main/d2l/computer-vision/multiscale-object-detection.ipynb\" target=\"_parent\"><img src=\"https://colab.research.google.com/assets/colab-badge.svg\" alt=\"Open In Colab\"/></a>"
      ],
      "metadata": {
        "id": "fupA9nobM3jQ"
      },
      "id": "fupA9nobM3jQ"
    },
    {
      "cell_type": "markdown",
      "metadata": {
        "id": "YItJ_2CMZfpl"
      },
      "source": [
        "# Install Packages"
      ],
      "id": "YItJ_2CMZfpl"
    },
    {
      "cell_type": "code",
      "source": [
        "!pip install github-clone"
      ],
      "metadata": {
        "colab": {
          "base_uri": "https://localhost:8080/"
        },
        "id": "q6iyRN5s_ClW",
        "outputId": "efbc6eff-5a31-4aaf-ec41-f38b5bbfd0c7"
      },
      "execution_count": 3,
      "outputs": [
        {
          "output_type": "stream",
          "name": "stdout",
          "text": [
            "Requirement already satisfied: github-clone in /usr/local/lib/python3.10/dist-packages (1.2.0)\n",
            "Requirement already satisfied: requests>=2.20.0 in /usr/local/lib/python3.10/dist-packages (from github-clone) (2.31.0)\n",
            "Requirement already satisfied: docopt>=0.6.2 in /usr/local/lib/python3.10/dist-packages (from github-clone) (0.6.2)\n",
            "Requirement already satisfied: charset-normalizer<4,>=2 in /usr/local/lib/python3.10/dist-packages (from requests>=2.20.0->github-clone) (3.3.2)\n",
            "Requirement already satisfied: idna<4,>=2.5 in /usr/local/lib/python3.10/dist-packages (from requests>=2.20.0->github-clone) (3.4)\n",
            "Requirement already satisfied: urllib3<3,>=1.21.1 in /usr/local/lib/python3.10/dist-packages (from requests>=2.20.0->github-clone) (2.0.7)\n",
            "Requirement already satisfied: certifi>=2017.4.17 in /usr/local/lib/python3.10/dist-packages (from requests>=2.20.0->github-clone) (2023.7.22)\n"
          ]
        }
      ],
      "id": "q6iyRN5s_ClW"
    },
    {
      "cell_type": "markdown",
      "source": [
        "# Load Files and Utils"
      ],
      "metadata": {
        "id": "HK1XD_KzW2Ge"
      },
      "id": "HK1XD_KzW2Ge"
    },
    {
      "cell_type": "code",
      "source": [
        "!ghclone https://github.com/FatemehAhsan/AI_Practices/tree/main/d2l/img"
      ],
      "metadata": {
        "colab": {
          "base_uri": "https://localhost:8080/"
        },
        "id": "TDCyevaf_u2x",
        "outputId": "47f854cf-7184-4d3e-dcff-6dbc0051a9ae"
      },
      "execution_count": 4,
      "outputs": [
        {
          "output_type": "stream",
          "name": "stdout",
          "text": [
            "Cloning into 'img'...\n",
            "done.\n"
          ]
        }
      ],
      "id": "TDCyevaf_u2x"
    },
    {
      "cell_type": "code",
      "source": [
        "!ghclone https://github.com/FatemehAhsan/AI_Practices/tree/main/d2l/d2l"
      ],
      "metadata": {
        "colab": {
          "base_uri": "https://localhost:8080/"
        },
        "id": "x3ngyttm_Jsl",
        "outputId": "276386b1-029d-4e8e-96a1-fdb24c4a4d38"
      },
      "execution_count": 5,
      "outputs": [
        {
          "output_type": "stream",
          "name": "stdout",
          "text": [
            "Cloning into 'd2l'...\n",
            "done.\n"
          ]
        }
      ],
      "id": "x3ngyttm_Jsl"
    },
    {
      "cell_type": "code",
      "source": [
        "!ghclone https://github.com/FatemehAhsan/AI_Practices/tree/main/utils"
      ],
      "metadata": {
        "id": "pECu6WKKXakE",
        "colab": {
          "base_uri": "https://localhost:8080/"
        },
        "outputId": "94dfcbdd-552b-41d1-c3ff-dba64ec437b8"
      },
      "execution_count": 6,
      "outputs": [
        {
          "output_type": "stream",
          "name": "stdout",
          "text": [
            "Cloning into 'utils'...\n",
            "done.\n"
          ]
        }
      ],
      "id": "pECu6WKKXakE"
    },
    {
      "cell_type": "markdown",
      "source": [
        "# Import Packages"
      ],
      "metadata": {
        "id": "0W1zqR3LXEis"
      },
      "id": "0W1zqR3LXEis"
    },
    {
      "cell_type": "code",
      "source": [
        "import torch\n",
        "from d2l.d2l import torch as d2l\n",
        "from typing import Any\n",
        "import matplotlib\n",
        "from torch import Tensor as tensor\n",
        "from utils.utils import *"
      ],
      "metadata": {
        "id": "4gQ1l9ukW7tT"
      },
      "execution_count": 7,
      "outputs": [],
      "id": "4gQ1l9ukW7tT"
    },
    {
      "cell_type": "markdown",
      "source": [
        "# Configs"
      ],
      "metadata": {
        "id": "kWIIdbMGXNAL"
      },
      "id": "kWIIdbMGXNAL"
    },
    {
      "cell_type": "code",
      "source": [
        "%matplotlib inline"
      ],
      "metadata": {
        "id": "neglvQCXXPEq"
      },
      "execution_count": 9,
      "outputs": [],
      "id": "neglvQCXXPEq"
    },
    {
      "cell_type": "markdown",
      "id": "dc4a093a",
      "metadata": {
        "origin_pos": 0,
        "id": "dc4a093a"
      },
      "source": [
        "# Multiscale Object Detection\n",
        ":label:`sec_multiscale-object-detection`\n",
        "\n",
        "\n",
        "In :numref:`sec_anchor`,\n",
        "we generated multiple anchor boxes centered on each pixel of an input image.\n",
        "Essentially these anchor boxes\n",
        "represent samples of\n",
        "different regions of the image.\n",
        "However,\n",
        "we may end up with too many anchor boxes to compute\n",
        "if they are generated for *every* pixel.\n",
        "Think of a $561 \\times 728$ input image.\n",
        "If five anchor boxes\n",
        "with varying shapes\n",
        "are generated for each pixel as their center,\n",
        "over two million anchor boxes ($561 \\times 728 \\times 5$) need to be labeled and predicted on the image.\n",
        "\n",
        "## Multiscale Anchor Boxes\n",
        ":label:`subsec_multiscale-anchor-boxes`\n",
        "\n",
        "You may realize that\n",
        "it is not difficult to reduce anchor boxes on an image.\n",
        "For instance, we can just\n",
        "uniformly sample a small portion of pixels\n",
        "from the input image\n",
        "to generate anchor boxes centered on them.\n",
        "In addition,\n",
        "at different scales\n",
        "we can generate different numbers of anchor boxes\n",
        "of different sizes.\n",
        "Intuitively,\n",
        "smaller objects are more likely\n",
        "to appear on an image than larger ones.\n",
        "As an example,\n",
        "$1 \\times 1$, $1 \\times 2$, and $2 \\times 2$ objects\n",
        "can appear on a $2 \\times 2$ image\n",
        "in 4, 2, and 1 possible ways, respectively.\n",
        "Therefore, when using smaller anchor boxes to detect smaller objects, we can sample more regions,\n",
        "while for larger objects we can sample fewer regions.\n",
        "\n",
        "To demonstrate how to generate anchor boxes\n",
        "at multiple scales, let's read an image.\n",
        "Its height and width are 561 and 728 pixels, respectively.\n"
      ]
    },
    {
      "cell_type": "code",
      "execution_count": 11,
      "id": "aa342d62",
      "metadata": {
        "execution": {
          "iopub.execute_input": "2023-08-18T19:43:37.388787Z",
          "iopub.status.busy": "2023-08-18T19:43:37.388422Z",
          "iopub.status.idle": "2023-08-18T19:43:40.309649Z",
          "shell.execute_reply": "2023-08-18T19:43:40.308383Z"
        },
        "origin_pos": 2,
        "tab": [
          "pytorch"
        ],
        "colab": {
          "base_uri": "https://localhost:8080/"
        },
        "id": "aa342d62",
        "outputId": "561b1ea5-f827-4aa0-cdb7-792fccd8096a"
      },
      "outputs": [
        {
          "output_type": "execute_result",
          "data": {
            "text/plain": [
              "(561, 728)"
            ]
          },
          "metadata": {},
          "execution_count": 11
        }
      ],
      "source": [
        "img = d2l.plt.imread('img/catdog.jpg')\n",
        "h, w = img.shape[:2]\n",
        "h, w"
      ]
    },
    {
      "cell_type": "markdown",
      "id": "4155e3fe",
      "metadata": {
        "origin_pos": 3,
        "id": "4155e3fe"
      },
      "source": [
        "Recall that in :numref:`sec_conv_layer`\n",
        "we call a two-dimensional array output of\n",
        "a convolutional layer a feature map.\n",
        "By defining the feature map shape,\n",
        "we can determine centers of uniformly sampled anchor boxes  on any image.\n",
        "\n",
        "\n",
        "The `display_anchors` function is defined below.\n",
        "[**We generate anchor boxes (`anchors`) on the feature map (`fmap`) with each unit (pixel) as the anchor box center.**]\n",
        "Since the $(x, y)$-axis coordinate values\n",
        "in the anchor boxes (`anchors`) have been divided by the width and height of the feature map (`fmap`),\n",
        "these values are between 0 and 1,\n",
        "which indicate the relative positions of\n",
        "anchor boxes in the feature map.\n",
        "\n",
        "Since centers of the anchor boxes (`anchors`)\n",
        "are spread over all units on the feature map (`fmap`),\n",
        "these centers must be *uniformly* distributed\n",
        "on any input image\n",
        "in terms of their relative spatial positions.\n",
        "More concretely,\n",
        "given the width and height of the feature map `fmap_w` and `fmap_h`, respectively,\n",
        "the following function will *uniformly* sample\n",
        "pixels in `fmap_h` rows and `fmap_w` columns\n",
        "on any input image.\n",
        "Centered on these uniformly sampled pixels,\n",
        "anchor boxes of scale `s` (assuming the length of the list `s` is 1) and different aspect ratios (`ratios`)\n",
        "will be generated.\n"
      ]
    },
    {
      "cell_type": "code",
      "execution_count": null,
      "id": "a23f0931",
      "metadata": {
        "execution": {
          "iopub.execute_input": "2023-08-18T19:43:40.315151Z",
          "iopub.status.busy": "2023-08-18T19:43:40.314382Z",
          "iopub.status.idle": "2023-08-18T19:43:40.320222Z",
          "shell.execute_reply": "2023-08-18T19:43:40.319395Z"
        },
        "origin_pos": 5,
        "tab": [
          "pytorch"
        ],
        "id": "a23f0931"
      },
      "outputs": [],
      "source": [
        "def display_anchors(fmap_w, fmap_h, s):\n",
        "    d2l.set_figsize()\n",
        "    # Values on the first two dimensions do not affect the output\n",
        "    fmap = torch.zeros((1, 10, fmap_h, fmap_w))\n",
        "    anchors = d2l.multibox_prior(fmap, sizes=s, ratios=[1, 2, 0.5])\n",
        "    bbox_scale = torch.tensor((w, h, w, h))\n",
        "    d2l.show_bboxes(d2l.plt.imshow(img).axes,\n",
        "                    anchors[0] * bbox_scale)"
      ]
    },
    {
      "cell_type": "markdown",
      "id": "f653ee9d",
      "metadata": {
        "origin_pos": 6,
        "id": "f653ee9d"
      },
      "source": [
        "First, let's [**consider\n",
        "detection of small objects**].\n",
        "In order to make it easier to distinguish when displayed, the anchor boxes with different centers here do not overlap:\n",
        "the anchor box scale is set to 0.15\n",
        "and the height and width of the feature map are set to 4. We can see\n",
        "that the centers of the anchor boxes in 4 rows and 4 columns on the image are uniformly distributed.\n"
      ]
    },
    {
      "cell_type": "code",
      "execution_count": null,
      "id": "f2f5c6bf",
      "metadata": {
        "execution": {
          "iopub.execute_input": "2023-08-18T19:43:40.323884Z",
          "iopub.status.busy": "2023-08-18T19:43:40.323202Z",
          "iopub.status.idle": "2023-08-18T19:43:40.724999Z",
          "shell.execute_reply": "2023-08-18T19:43:40.724110Z"
        },
        "origin_pos": 7,
        "tab": [
          "pytorch"
        ],
        "id": "f2f5c6bf"
      },
      "outputs": [],
      "source": [
        "display_anchors(fmap_w=4, fmap_h=4, s=[0.15])"
      ]
    },
    {
      "cell_type": "markdown",
      "id": "48e1e28a",
      "metadata": {
        "origin_pos": 8,
        "id": "48e1e28a"
      },
      "source": [
        "We move on to [**reduce the height and width of the feature map by half and use larger anchor boxes to detect larger objects**]. When the scale is set to 0.4,\n",
        "some anchor boxes will overlap with each other.\n"
      ]
    },
    {
      "cell_type": "code",
      "execution_count": null,
      "id": "ac73661b",
      "metadata": {
        "execution": {
          "iopub.execute_input": "2023-08-18T19:43:40.732529Z",
          "iopub.status.busy": "2023-08-18T19:43:40.731744Z",
          "iopub.status.idle": "2023-08-18T19:43:41.016547Z",
          "shell.execute_reply": "2023-08-18T19:43:41.015632Z"
        },
        "origin_pos": 9,
        "tab": [
          "pytorch"
        ],
        "id": "ac73661b"
      },
      "outputs": [],
      "source": [
        "display_anchors(fmap_w=2, fmap_h=2, s=[0.4])"
      ]
    },
    {
      "cell_type": "markdown",
      "id": "7debbaec",
      "metadata": {
        "origin_pos": 10,
        "id": "7debbaec"
      },
      "source": [
        "Finally, we [**further reduce the height and width of the feature map by half and increase the anchor box scale to 0.8**]. Now the center of the anchor box is the center of the image.\n"
      ]
    },
    {
      "cell_type": "code",
      "execution_count": null,
      "id": "d3c50b52",
      "metadata": {
        "execution": {
          "iopub.execute_input": "2023-08-18T19:43:41.021696Z",
          "iopub.status.busy": "2023-08-18T19:43:41.021086Z",
          "iopub.status.idle": "2023-08-18T19:43:41.419436Z",
          "shell.execute_reply": "2023-08-18T19:43:41.418206Z"
        },
        "origin_pos": 11,
        "tab": [
          "pytorch"
        ],
        "id": "d3c50b52"
      },
      "outputs": [],
      "source": [
        "display_anchors(fmap_w=1, fmap_h=1, s=[0.8])"
      ]
    },
    {
      "cell_type": "markdown",
      "id": "ab218969",
      "metadata": {
        "origin_pos": 12,
        "id": "ab218969"
      },
      "source": [
        "## Multiscale Detection\n",
        "\n",
        "\n",
        "Since we have generated multiscale anchor boxes,\n",
        "we will use them to detect objects of various sizes\n",
        "at different scales.\n",
        "In the following\n",
        "we introduce a CNN-based multiscale object detection\n",
        "method that we will implement\n",
        "in :numref:`sec_ssd`.\n",
        "\n",
        "At some scale,\n",
        "say that we have $c$ feature maps of shape $h \\times w$.\n",
        "Using the method in :numref:`subsec_multiscale-anchor-boxes`,\n",
        "we generate $hw$ sets of anchor boxes,\n",
        "where each set has $a$ anchor boxes with the same center.\n",
        "For example,\n",
        "at the first scale in the experiments in :numref:`subsec_multiscale-anchor-boxes`,\n",
        "given ten (number of channels) $4 \\times 4$ feature maps,\n",
        "we generated 16 sets of anchor boxes,\n",
        "where each set contains 3 anchor boxes with the same center.\n",
        "Next, each anchor box is labeled with\n",
        "the class and offset based on ground-truth bounding boxes. At the current scale, the object detection model needs to predict the classes and offsets of $hw$ sets of anchor boxes on the input image, where different sets have different centers.\n",
        "\n",
        "\n",
        "Assume that the $c$ feature maps here\n",
        "are the intermediate outputs obtained\n",
        "by the CNN forward propagation based on the input image. Since there are $hw$ different spatial positions on each feature map,\n",
        "the same spatial position can be\n",
        "thought of as having $c$ units.\n",
        "According to the\n",
        "definition of receptive field in :numref:`sec_conv_layer`,\n",
        "these $c$ units at the same spatial position\n",
        "of the feature maps\n",
        "have the same receptive field on the input image:\n",
        "they represent the input image information\n",
        "in the same receptive field.\n",
        "Therefore, we can transform the $c$ units\n",
        "of the feature maps at the same spatial position\n",
        "into the\n",
        "classes and offsets of the $a$ anchor boxes\n",
        "generated using this spatial position.\n",
        "In essence,\n",
        "we use the information of the input image in a certain receptive field\n",
        "to predict the classes and offsets of the anchor boxes\n",
        "that are\n",
        "close to that receptive field\n",
        "on the input image.\n",
        "\n",
        "\n",
        "When the feature maps at different layers\n",
        "have varying-size receptive fields on the input image, they can be used to detect objects of different sizes.\n",
        "For example, we can design a neural network where\n",
        "units of feature maps that are closer to the output layer\n",
        "have wider receptive fields,\n",
        "so they can detect larger objects from the input image.\n",
        "\n",
        "In a nutshell, we can leverage\n",
        "layerwise representations of images at multiple levels\n",
        "by deep neural networks\n",
        "for multiscale object detection.\n",
        "We will show how this works through a concrete example\n",
        "in :numref:`sec_ssd`.\n",
        "\n",
        "\n",
        "\n",
        "\n",
        "## Summary\n",
        "\n",
        "* At multiple scales, we can generate anchor boxes with different sizes to detect objects with different sizes.\n",
        "* By defining the shape of feature maps, we can determine centers of uniformly sampled anchor boxes on any image.\n",
        "* We use the information of the input image in a certain receptive field to predict the classes and offsets of the anchor boxes that are close to that receptive field on the input image.\n",
        "* Through deep learning, we can leverage its layerwise representations of images at multiple levels for multiscale object detection.\n",
        "\n",
        "\n",
        "## Exercises\n",
        "\n",
        "1. According to our discussions in :numref:`sec_alexnet`, deep neural networks learn hierarchical features with increasing levels of abstraction for images. In multiscale object detection, do feature maps at different scales correspond to different levels of abstraction? Why or why not?\n",
        "1. At the first scale (`fmap_w=4, fmap_h=4`) in the experiments in :numref:`subsec_multiscale-anchor-boxes`, generate uniformly distributed anchor boxes that may overlap.\n",
        "1. Given a feature map variable with shape $1 \\times c \\times h \\times w$, where $c$, $h$, and $w$ are the number of channels, height, and width of the feature maps, respectively. How can you transform this variable into the classes and offsets of anchor boxes? What is the shape of the output?\n"
      ]
    },
    {
      "cell_type": "markdown",
      "id": "546f146c",
      "metadata": {
        "origin_pos": 14,
        "tab": [
          "pytorch"
        ],
        "id": "546f146c"
      },
      "source": [
        "[Discussions](https://discuss.d2l.ai/t/1607)\n"
      ]
    }
  ],
  "metadata": {
    "kernelspec": {
      "display_name": "Python 3",
      "name": "python3"
    },
    "language_info": {
      "name": "python"
    },
    "required_libs": [],
    "colab": {
      "provenance": []
    }
  },
  "nbformat": 4,
  "nbformat_minor": 5
}